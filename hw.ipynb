{
 "cells": [
  {
   "cell_type": "code",
   "execution_count": 76,
   "metadata": {},
   "outputs": [],
   "source": [
    "import numpy as np"
   ]
  },
  {
   "cell_type": "code",
   "execution_count": 77,
   "metadata": {},
   "outputs": [],
   "source": [
    "m1 = np.array([[5,5,5,5,5],[5,5,5,5,5],[5,5,5,5,5],[5,5,5,5,5],[5,5,5,5,5]])\n",
    "m2 = np.array([[1,1],[1,1]])"
   ]
  },
  {
   "cell_type": "code",
   "execution_count": 78,
   "metadata": {},
   "outputs": [],
   "source": [
    "def shape(m1, m2):\n",
    "    m3_shape1 = np.subtract(np.array(m1.shape), np.array(m2.shape))\n",
    "    m3_shape = np.add(m3_shape1, np.array([1,1]))\n",
    "    #print(m3_shape)\n",
    "    return m3_shape"
   ]
  },
  {
   "cell_type": "code",
   "execution_count": 79,
   "metadata": {},
   "outputs": [],
   "source": [
    "def matrix_mul(m1, m2):\n",
    "    m3_shape = shape(m1, m2)\n",
    "    m3 = np.zeros(m3_shape)\n",
    "    x = m2.shape[0]\n",
    "    y = m2.shape[1]\n",
    "    #print(m3)\n",
    "    for j in range(m3.shape[0]):\n",
    "        for i in range(m3.shape[1]):\n",
    "            temp = m1[j:j+x, i:i+y]\n",
    "            m3[j][i] = np.sum(np.multiply(temp,m2))\n",
    "    return m3"
   ]
  },
  {
   "cell_type": "code",
   "execution_count": 80,
   "metadata": {},
   "outputs": [
    {
     "name": "stdout",
     "output_type": "stream",
     "text": [
      "[[20. 20. 20. 20.]\n",
      " [20. 20. 20. 20.]\n",
      " [20. 20. 20. 20.]\n",
      " [20. 20. 20. 20.]]\n"
     ]
    }
   ],
   "source": [
    "print(matrix_mul(m1,m2))"
   ]
  }
 ],
 "metadata": {
  "kernelspec": {
   "display_name": "Python 3",
   "language": "python",
   "name": "python3"
  },
  "language_info": {
   "codemirror_mode": {
    "name": "ipython",
    "version": 3
   },
   "file_extension": ".py",
   "mimetype": "text/x-python",
   "name": "python",
   "nbconvert_exporter": "python",
   "pygments_lexer": "ipython3",
   "version": "3.6.5"
  }
 },
 "nbformat": 4,
 "nbformat_minor": 2
}
