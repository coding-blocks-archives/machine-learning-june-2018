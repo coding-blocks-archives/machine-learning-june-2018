{
 "cells": [
  {
   "cell_type": "code",
   "execution_count": 62,
   "metadata": {},
   "outputs": [],
   "source": [
    "import numpy as np"
   ]
  },
  {
   "cell_type": "markdown",
   "metadata": {},
   "source": [
    "# Multiplication function"
   ]
  },
  {
   "cell_type": "code",
   "execution_count": 57,
   "metadata": {},
   "outputs": [],
   "source": [
    " def mul(big, small):\n",
    "    row=0\n",
    "    new=np.zeros((big.shape[0]-small.shape[0]+1,big.shape[0]-small.shape[0]+1),dtype=int)\n",
    "    col=0\n",
    "    print new.shape[0]\n",
    "    for ix in range(new.shape[0]):\n",
    "        ans1=0\n",
    "        for qx in range(new.shape[1]):\n",
    "            print row,col\n",
    "            sliced=big[row:row+new.shape[0],col:col+new.shape[1]]\n",
    "            print sliced.shape\n",
    "            ans=small*sliced\n",
    "            ans1=np.sum(ans)\n",
    "            new[ix][qx]=ans1\n",
    "            col+=1 \n",
    "        row+=1 \n",
    "        col=0\n",
    "    return new"
   ]
  },
  {
   "cell_type": "markdown",
   "metadata": {},
   "source": [
    "# TEST CASE-1"
   ]
  },
  {
   "cell_type": "code",
   "execution_count": 59,
   "metadata": {},
   "outputs": [
    {
     "name": "stdout",
     "output_type": "stream",
     "text": [
      "2\n",
      "0 0\n",
      "(2, 2)\n",
      "0 1\n",
      "(2, 2)\n",
      "1 0\n",
      "(2, 2)\n",
      "1 1\n",
      "(2, 2)\n",
      "[[19 25]\n",
      " [37 43]]\n"
     ]
    }
   ],
   "source": [
    "big=np.arange(9).reshape(3, 3)\n",
    "small=np.arange(4).reshape(2,2)\n",
    "print mul(big,small)\n",
    "\n"
   ]
  },
  {
   "cell_type": "markdown",
   "metadata": {},
   "source": [
    "# TEST CASE-2"
   ]
  },
  {
   "cell_type": "code",
   "execution_count": 61,
   "metadata": {},
   "outputs": [
    {
     "name": "stdout",
     "output_type": "stream",
     "text": [
      "2\n",
      "0 0\n",
      "(2, 2)\n",
      "0 1\n",
      "(2, 2)\n",
      "1 0\n",
      "(2, 2)\n",
      "1 1\n",
      "(2, 2)\n",
      "[[28 15]\n",
      " [23 21]]\n"
     ]
    }
   ],
   "source": [
    "a=np.array([[2,3,1],[4,2,1],[1,3,2]])\n",
    "b=np.array([[1,2],[3,4]])\n",
    "print mul(a,b)"
   ]
  },
  {
   "cell_type": "code",
   "execution_count": null,
   "metadata": {},
   "outputs": [],
   "source": []
  },
  {
   "cell_type": "code",
   "execution_count": null,
   "metadata": {},
   "outputs": [],
   "source": []
  }
 ],
 "metadata": {
  "kernelspec": {
   "display_name": "Python 2",
   "language": "python",
   "name": "python2"
  },
  "language_info": {
   "codemirror_mode": {
    "name": "ipython",
    "version": 2
   },
   "file_extension": ".py",
   "mimetype": "text/x-python",
   "name": "python",
   "nbconvert_exporter": "python",
   "pygments_lexer": "ipython2",
   "version": "2.7.12"
  }
 },
 "nbformat": 4,
 "nbformat_minor": 2
}
