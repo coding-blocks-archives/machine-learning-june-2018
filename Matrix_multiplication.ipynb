{
 "cells": [
  {
   "cell_type": "code",
   "execution_count": 22,
   "metadata": {},
   "outputs": [],
   "source": [
    "import numpy as np\n",
    "import pandas as pd\n",
    "import matplotlib.pyplot as plt\n",
    "%matplotlib inline"
   ]
  },
  {
   "cell_type": "code",
   "execution_count": 23,
   "metadata": {},
   "outputs": [],
   "source": [
    "l=[[2,3,1,1],[4,2,1,2],[1,3,2,3],[0,1,2,4]]\n",
    "m=[[1,2],[3,4]]"
   ]
  },
  {
   "cell_type": "code",
   "execution_count": 24,
   "metadata": {},
   "outputs": [
    {
     "name": "stdout",
     "output_type": "stream",
     "text": [
      "3\n",
      "2 2\n"
     ]
    }
   ],
   "source": [
    "l=np.array(l)\n",
    "m=np.array(m)\n",
    "x,y=m.shape\n",
    "print m[1][0]\n",
    "print x,y"
   ]
  },
  {
   "cell_type": "code",
   "execution_count": 25,
   "metadata": {},
   "outputs": [],
   "source": [
    "def multiply(big_matrix,small_matrix):\n",
    "    x=small_matrix.shape[0]\n",
    "    y=big_matrix.shape[0]\n",
    "    sh=y-x+1\n",
    "    mat=np.zeros((sh,sh))\n",
    "    for i in range(sh):\n",
    "        for j in range(sh):\n",
    "            row=i\n",
    "            col=j\n",
    "            sum1=0.0\n",
    "            for k in range(small_matrix.shape[0]):\n",
    "                for l in range(small_matrix.shape[1]):\n",
    "                    sum1+=(small_matrix[k][l]*big_matrix[row][col])\n",
    "                    col+=1\n",
    "                row+=1\n",
    "                col=j\n",
    "            mat[i][j]=sum1\n",
    "    return mat\n",
    "                    \n",
    "                    \n",
    "                    \n",
    "    \n",
    "   \n",
    "            \n",
    "    "
   ]
  },
  {
   "cell_type": "code",
   "execution_count": 26,
   "metadata": {},
   "outputs": [
    {
     "name": "stdout",
     "output_type": "stream",
     "text": [
      "[[28. 15. 14.]\n",
      " [23. 21. 23.]\n",
      " [11. 18. 30.]]\n"
     ]
    }
   ],
   "source": [
    "print multiply(l,m)"
   ]
  },
  {
   "cell_type": "code",
   "execution_count": null,
   "metadata": {},
   "outputs": [],
   "source": []
  },
  {
   "cell_type": "code",
   "execution_count": null,
   "metadata": {},
   "outputs": [],
   "source": []
  }
 ],
 "metadata": {
  "kernelspec": {
   "display_name": "Python 2",
   "language": "python",
   "name": "python2"
  },
  "language_info": {
   "codemirror_mode": {
    "name": "ipython",
    "version": 2
   },
   "file_extension": ".py",
   "mimetype": "text/x-python",
   "name": "python",
   "nbconvert_exporter": "python",
   "pygments_lexer": "ipython2",
   "version": "2.7.12"
  }
 },
 "nbformat": 4,
 "nbformat_minor": 2
}
