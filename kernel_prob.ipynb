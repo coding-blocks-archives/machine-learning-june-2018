{
 "cells": [
  {
   "cell_type": "code",
   "execution_count": 9,
   "metadata": {},
   "outputs": [],
   "source": [
    "import numpy as np"
   ]
  },
  {
   "cell_type": "code",
   "execution_count": 10,
   "metadata": {},
   "outputs": [],
   "source": [
    "def output(mat_m,mat_n,m,n):\n",
    "    size=m-n+1\n",
    "    out_mat=np.zeros((size,size))\n",
    "    sub_mat=np.zeros((n,n))\n",
    "    for i in range(size):\n",
    "        for j in range (size):\n",
    "            sub_mat=mat_m[i:n+i,j:n+j]\n",
    "            out_mat[i][j]=np.sum(sub_mat*mat_n)\n",
    "    return out_mat        "
   ]
  },
  {
   "cell_type": "code",
   "execution_count": 11,
   "metadata": {},
   "outputs": [
    {
     "name": "stdout",
     "output_type": "stream",
     "text": [
      "3\n",
      "2\n",
      "1\n",
      "2\n",
      "3\n",
      "4\n",
      "5\n",
      "6\n",
      "7\n",
      "8\n",
      "9\n",
      "1\n",
      "2\n",
      "3\n",
      "4\n"
     ]
    },
    {
     "data": {
      "text/plain": [
       "array([[ 37.,  47.],\n",
       "       [ 67.,  77.]])"
      ]
     },
     "execution_count": 11,
     "metadata": {},
     "output_type": "execute_result"
    }
   ],
   "source": [
    "m = input()\n",
    "m=int(m)\n",
    "mat_m= [[0]*m for i in range(m)]\n",
    "n = input()\n",
    "n=(int(n))\n",
    "mat_n=[[0]*n for i in range(n)]\n",
    "for i in range(m):\n",
    "    for j in range(m):\n",
    "        mat_m[i][j]=int(input())\n",
    "        \n",
    "for i in range(n):\n",
    "    for j in range(n):\n",
    "        mat_n[i][j]=int(input())    \n",
    "\n",
    "mat_m=np.array(mat_m)\n",
    "mat_n=np.array(mat_n)\n",
    "output(mat_m,mat_n,m,n)\n",
    "        "
   ]
  },
  {
   "cell_type": "code",
   "execution_count": null,
   "metadata": {},
   "outputs": [],
   "source": []
  }
 ],
 "metadata": {
  "kernelspec": {
   "display_name": "Python 3",
   "language": "python",
   "name": "python3"
  },
  "language_info": {
   "codemirror_mode": {
    "name": "ipython",
    "version": 3
   },
   "file_extension": ".py",
   "mimetype": "text/x-python",
   "name": "python",
   "nbconvert_exporter": "python",
   "pygments_lexer": "ipython3",
   "version": "3.6.5"
  }
 },
 "nbformat": 4,
 "nbformat_minor": 2
}
