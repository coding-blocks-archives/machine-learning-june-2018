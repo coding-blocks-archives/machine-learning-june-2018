{
 "cells": [
  {
   "cell_type": "code",
   "execution_count": 1,
   "metadata": {},
   "outputs": [],
   "source": [
    "import numpy as np\n",
    "import matplotlib.pyplot as plt\n",
    "import pandas as pd\n",
    "import cv2"
   ]
  },
  {
   "cell_type": "code",
   "execution_count": 6,
   "metadata": {},
   "outputs": [],
   "source": [
    "def get_kernel(mat,ksize):    ## if successful, returns kernel matrix otherwise it returns None\n",
    "    if ksize <= np.min(mat.shape):\n",
    "        size = [ksize]*len(mat.shape)\n",
    "        kern = np.random.randint(0,5,size)\n",
    "    else:\n",
    "        print('The size of the kernel cannot be bigger than the smallest dimension in matrix provided!')\n",
    "        kern = None\n",
    "    return kern"
   ]
  },
  {
   "cell_type": "code",
   "execution_count": 7,
   "metadata": {},
   "outputs": [],
   "source": [
    "def fakeDot(kern,mat):\n",
    "    outRow = mat.shape[0]-kern.shape[0]+1\n",
    "    outCol = mat.shape[1]-kern.shape[1]+1\n",
    "    out = np.zeros((outRow,outCol),dtype=np.float32)\n",
    "    for rx in range(outRow):\n",
    "        for cx in range(outCol):\n",
    "            lastr = rx + kern.shape[0]\n",
    "            lastc = cx + kern.shape[1]\n",
    "            out[rx][cx] = np.sum(kern.dot(mat[rx:lastr,cx:lastc]))\n",
    "    print(out)"
   ]
  },
  {
   "cell_type": "code",
   "execution_count": 8,
   "metadata": {},
   "outputs": [
    {
     "name": "stdout",
     "output_type": "stream",
     "text": [
      "(3, 3)\n",
      "[[1 4]\n",
      " [2 4]]\n",
      "-----------\n",
      "[[22. 22.]\n",
      " [22. 22.]]\n"
     ]
    }
   ],
   "source": [
    "## Testing the functions above with an example matrix\n",
    "\n",
    "mat = np.array([[1,1,1],[1,1,1],[1,1,1]])\n",
    "print(mat.shape)\n",
    "kern = get_kernel(mat,2)\n",
    "print(kern)\n",
    "print('-----------')\n",
    "fakeDot(kern,mat)"
   ]
  },
  {
   "cell_type": "code",
   "execution_count": null,
   "metadata": {},
   "outputs": [],
   "source": []
  }
 ],
 "metadata": {
  "kernelspec": {
   "display_name": "Python 3",
   "language": "python",
   "name": "python3"
  },
  "language_info": {
   "codemirror_mode": {
    "name": "ipython",
    "version": 3
   },
   "file_extension": ".py",
   "mimetype": "text/x-python",
   "name": "python",
   "nbconvert_exporter": "python",
   "pygments_lexer": "ipython3",
   "version": "3.6.5"
  }
 },
 "nbformat": 4,
 "nbformat_minor": 2
}
