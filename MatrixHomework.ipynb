{
 "cells": [
  {
   "cell_type": "code",
   "execution_count": 1,
   "metadata": {},
   "outputs": [],
   "source": [
    "import numpy as np"
   ]
  },
  {
   "cell_type": "code",
   "execution_count": 67,
   "metadata": {},
   "outputs": [],
   "source": [
    "kernal = np.array([[1,2],[3,4]])"
   ]
  },
  {
   "cell_type": "code",
   "execution_count": 68,
   "metadata": {},
   "outputs": [],
   "source": [
    "matrix = np.array([[2,3,1],[4,2,1],[1,3,2]])"
   ]
  },
  {
   "cell_type": "code",
   "execution_count": 69,
   "metadata": {},
   "outputs": [],
   "source": [
    "def runKernal(kernal, matrix, verbose = False):\n",
    "    row_start = 0\n",
    "    col_start = 0\n",
    "    row_end = kernal.shape[0]\n",
    "    col_end = kernal.shape[1]\n",
    "    new_matrix = []\n",
    "    while True:\n",
    "        if verbose:\n",
    "            print('Kernal at: %dx%d - %dx%d'% (row_start, col_start, row_end-1, col_end-1))\n",
    "        new_matrix.append((matrix[row_start:row_end, col_start:col_end]*kernal).sum())\n",
    "        col_end += 1\n",
    "        col_start += 1\n",
    "        if col_end > matrix.shape[1]:\n",
    "            col_start = 0\n",
    "            col_end = kernal.shape[1]\n",
    "            row_start += 1\n",
    "            row_end += 1\n",
    "        if row_end > matrix.shape[0]:\n",
    "            break\n",
    "    return np.array(new_matrix)"
   ]
  },
  {
   "cell_type": "code",
   "execution_count": 70,
   "metadata": {},
   "outputs": [
    {
     "name": "stdout",
     "output_type": "stream",
     "text": [
      "Kernal at: 0x0 - 1x1\n",
      "Kernal at: 0x1 - 1x2\n",
      "Kernal at: 1x0 - 2x1\n",
      "Kernal at: 1x1 - 2x2\n"
     ]
    },
    {
     "data": {
      "text/plain": [
       "array([28, 15, 23, 21])"
      ]
     },
     "execution_count": 70,
     "metadata": {},
     "output_type": "execute_result"
    }
   ],
   "source": [
    "runKernal(kernal, matrix, True)"
   ]
  }
 ],
 "metadata": {
  "kernelspec": {
   "display_name": "Python 3",
   "language": "python",
   "name": "python3"
  },
  "language_info": {
   "codemirror_mode": {
    "name": "ipython",
    "version": 2
   },
   "file_extension": ".py",
   "mimetype": "text/x-python",
   "name": "python",
   "nbconvert_exporter": "python",
   "pygments_lexer": "ipython2",
   "version": "2.7.15rc1"
  }
 },
 "nbformat": 4,
 "nbformat_minor": 2
}
