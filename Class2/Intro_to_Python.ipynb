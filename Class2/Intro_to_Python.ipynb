{
 "cells": [
  {
   "cell_type": "code",
   "execution_count": 4,
   "metadata": {},
   "outputs": [
    {
     "name": "stdout",
     "output_type": "stream",
     "text": [
      "<type 'int'>\n",
      "<type 'str'>\n",
      "<type 'float'>\n"
     ]
    }
   ],
   "source": [
    "## Variables\n",
    "a = 6\n",
    "print type(a)\n",
    "a = '6'\n",
    "print type(a)\n",
    "a = 10.0\n",
    "print type(a)"
   ]
  },
  {
   "cell_type": "code",
   "execution_count": 8,
   "metadata": {},
   "outputs": [
    {
     "name": "stdout",
     "output_type": "stream",
     "text": [
      "5\n",
      "[1, 2, 3, 4, 5, 10]\n",
      "[1, 33, 2, 3, 4, 5, 10]\n",
      "<type 'list'>\n"
     ]
    }
   ],
   "source": [
    "## Lists\n",
    "a = [1,2,3,4,5]\n",
    "print len(a)\n",
    "a.append(10)\n",
    "print a\n",
    "a.insert(1,33)\n",
    "print a\n",
    "\n",
    "a = list()\n",
    "print type(a)"
   ]
  },
  {
   "cell_type": "code",
   "execution_count": 13,
   "metadata": {},
   "outputs": [
    {
     "name": "stdout",
     "output_type": "stream",
     "text": [
      "[0, 1, 2, 3, 4, 5, 6, 7, 8, 9]\n",
      "<type 'list'>\n",
      "[1, 2, 3, 4, 5, 6, 7, 8, 9]\n",
      "[1, 3, 5, 7, 9]\n"
     ]
    }
   ],
   "source": [
    "## Range\n",
    "x = list(range(10))\n",
    "print x\n",
    "print type(x)\n",
    "\n",
    "x2 = range(1, 10)\n",
    "print x2\n",
    "x3 = range(1, 10, 2)\n",
    "print x3"
   ]
  },
  {
   "cell_type": "code",
   "execution_count": 29,
   "metadata": {},
   "outputs": [
    {
     "name": "stdout",
     "output_type": "stream",
     "text": [
      "[1, 2, 3, 4, 5, 6, 7, 8, 9]\n",
      "[2, 3, 4]\n",
      "9\n",
      "9\n",
      "[1, 2, 3, 4, 5, 6, 7, 8]\n",
      "[]\n",
      "[2, 4, 6, 8]\n"
     ]
    }
   ],
   "source": [
    "## Slicing\n",
    "x = range(1, 10)\n",
    "print x\n",
    "x2 = x[1:4]\n",
    "print x2\n",
    "x[4]\n",
    "print x[-1]\n",
    "print x[8]\n",
    "print x[:-1]\n",
    "print x[-1:-3]\n",
    "print x[1::2]"
   ]
  },
  {
   "cell_type": "code",
   "execution_count": 33,
   "metadata": {},
   "outputs": [
    {
     "name": "stdout",
     "output_type": "stream",
     "text": [
      "<type 'str'>\n",
      "<type 'str'>\n",
      "1233 hello\n"
     ]
    }
   ],
   "source": [
    "## Strings - are Immutable\n",
    "a = '1233'\n",
    "print type(a)\n",
    "a = \"1233\"\n",
    "print type(a)\n",
    "b = ' hello'\n",
    "print a + b"
   ]
  },
  {
   "cell_type": "code",
   "execution_count": 49,
   "metadata": {},
   "outputs": [
    {
     "name": "stdout",
     "output_type": "stream",
     "text": [
      "1 3 5 7 9 "
     ]
    }
   ],
   "source": [
    "## Loops\n",
    "for ix in xrange(1, 11, 2):\n",
    "    print(ix, end=' ')"
   ]
  },
  {
   "cell_type": "code",
   "execution_count": 53,
   "metadata": {},
   "outputs": [
    {
     "name": "stdout",
     "output_type": "stream",
     "text": [
      "6\n",
      "8\n"
     ]
    }
   ],
   "source": [
    "print(2*3)\n",
    "print(2**3)"
   ]
  },
  {
   "cell_type": "code",
   "execution_count": 54,
   "metadata": {},
   "outputs": [
    {
     "name": "stdout",
     "output_type": "stream",
     "text": [
      "30\n"
     ]
    }
   ],
   "source": [
    "## Functions\n",
    "def my_func(arg1):\n",
    "    return arg1*10\n",
    "print(my_func(3))"
   ]
  },
  {
   "cell_type": "code",
   "execution_count": 57,
   "metadata": {},
   "outputs": [
    {
     "name": "stdout",
     "output_type": "stream",
     "text": [
      "set([10])\n",
      "set([10, 12])\n"
     ]
    }
   ],
   "source": [
    "## Sets\n",
    "x = set()\n",
    "x.add(10)\n",
    "print(x)\n",
    "x.add(12)\n",
    "print(x)"
   ]
  },
  {
   "cell_type": "code",
   "execution_count": 71,
   "metadata": {},
   "outputs": [
    {
     "name": "stdout",
     "output_type": "stream",
     "text": [
      "<type 'tuple'>\n",
      "{}\n",
      "22\n",
      "<type 'tuple'>\n",
      "{'a': 4, 'b': 5}\n"
     ]
    },
    {
     "data": {
      "text/plain": [
       "61"
      ]
     },
     "execution_count": 71,
     "metadata": {},
     "output_type": "execute_result"
    }
   ],
   "source": [
    "## Arguments and Keyword Arguments\n",
    "def add(a1, a2,*args, **kwargs):\n",
    "    ret_sum = a1+a2\n",
    "    print(type(args))\n",
    "    print(type(kwargs))\n",
    "    for ix in args:\n",
    "        ret_sum += ix\n",
    "    for ix in kwargs.keys():\n",
    "        ret_sum += kwargs[ix]\n",
    "    return ret_sum\n",
    "print(add(10, 12))\n",
    "add(10, 12, 14, 16, a=4,b=5)"
   ]
  },
  {
   "cell_type": "code",
   "execution_count": 78,
   "metadata": {},
   "outputs": [
    {
     "name": "stdout",
     "output_type": "stream",
     "text": [
      "{'k2': 100.0, 'key': 10}\n",
      "['k2', 'key']\n",
      "[100.0, 10]\n",
      "<type 'list'>\n"
     ]
    }
   ],
   "source": [
    "## Dictionary - Entirely Heterogenous\n",
    "d  = dict()\n",
    "d = {}\n",
    "d['key'] = 10\n",
    "d['k2'] = 100.0\n",
    "print(d)\n",
    "print(d.keys())\n",
    "print(d.values())\n",
    "print(type(d.values()))"
   ]
  },
  {
   "cell_type": "code",
   "execution_count": 79,
   "metadata": {},
   "outputs": [
    {
     "data": {
      "text/plain": [
       "'This is a \\nmultiline comment\\n'"
      ]
     },
     "execution_count": 79,
     "metadata": {},
     "output_type": "execute_result"
    }
   ],
   "source": [
    "# This is a comment\n",
    "\n",
    "\"\"\"This is a \n",
    "multiline comment\n",
    "\"\"\""
   ]
  },
  {
   "cell_type": "code",
   "execution_count": 86,
   "metadata": {},
   "outputs": [],
   "source": [
    "## Classes in Python\n",
    "class MyClass:\n",
    "    class_list = [] \n",
    "    def __init__(self, arg1):\n",
    "        '''This is the constructor'''\n",
    "        self.object_list = []\n",
    "        self.class_list.append(arg1)\n",
    "        self.object_list.append(arg1)"
   ]
  },
  {
   "cell_type": "code",
   "execution_count": 87,
   "metadata": {},
   "outputs": [
    {
     "name": "stdout",
     "output_type": "stream",
     "text": [
      "[10]\n",
      "[10]\n",
      "[12]\n",
      "[10, 12]\n",
      "[10, 12]\n"
     ]
    }
   ],
   "source": [
    "o1 = MyClass(10)\n",
    "print(o1.object_list)\n",
    "print(o1.class_list)\n",
    "o2 = MyClass(12)\n",
    "print(o2.object_list)\n",
    "print(o2.class_list)\n",
    "print(MyClass.class_list)"
   ]
  },
  {
   "cell_type": "code",
   "execution_count": null,
   "metadata": {},
   "outputs": [],
   "source": []
  }
 ],
 "metadata": {
  "kernelspec": {
   "display_name": "Python 3",
   "language": "python",
   "name": "python3"
  },
  "language_info": {
   "codemirror_mode": {
    "name": "ipython",
    "version": 3
   },
   "file_extension": ".py",
   "mimetype": "text/x-python",
   "name": "python",
   "nbconvert_exporter": "python",
   "pygments_lexer": "ipython3",
   "version": "3.7.3"
  }
 },
 "nbformat": 4,
 "nbformat_minor": 2
}
