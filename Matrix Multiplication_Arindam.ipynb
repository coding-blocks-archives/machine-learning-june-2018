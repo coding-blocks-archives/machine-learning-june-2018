{
 "cells": [
  {
   "cell_type": "code",
   "execution_count": 1,
   "metadata": {},
   "outputs": [],
   "source": [
    "import numpy as np"
   ]
  },
  {
   "cell_type": "code",
   "execution_count": 2,
   "metadata": {},
   "outputs": [],
   "source": [
    "def multiply(small,big):\n",
    "    new_matrix = np.zeros((small.shape[0],small.shape[1]))\n",
    "    \n",
    "    for cur_row in range(new_matrix.shape[0]):\n",
    "        for cur_col in range(new_matrix.shape[1]):\n",
    "            for i in range(cur_row,cur_row+small.shape[0]):\n",
    "                for j in range(cur_col,cur_col+small.shape[1]):\n",
    "                   \n",
    "                    new_matrix[cur_row][cur_col]+=big[i][j]*small[i-cur_row][j-cur_col]\n",
    "                    #print i,j,\"-\",big[i][j],\"*\",small[i-cur_row][j-cur_col],\"=\",\n",
    "                    \n",
    "    return new_matrix"
   ]
  },
  {
   "cell_type": "code",
   "execution_count": 3,
   "metadata": {},
   "outputs": [],
   "source": [
    "small= np.array(([1,2],[3,4]))\n",
    "big = np.array(([1,2,3],[4,5,6],[7,8,9]))"
   ]
  },
  {
   "cell_type": "code",
   "execution_count": 4,
   "metadata": {},
   "outputs": [
    {
     "name": "stdout",
     "output_type": "stream",
     "text": [
      "[[37. 47.]\n",
      " [67. 77.]]\n"
     ]
    }
   ],
   "source": [
    "S = multiply(small,big)\n",
    "print(S)"
   ]
  }
 ],
 "metadata": {
  "kernelspec": {
   "display_name": "Python 2",
   "language": "python",
   "name": "python2"
  },
  "language_info": {
   "codemirror_mode": {
    "name": "ipython",
    "version": 2
   },
   "file_extension": ".py",
   "mimetype": "text/x-python",
   "name": "python",
   "nbconvert_exporter": "python",
   "pygments_lexer": "ipython2",
   "version": "2.7.15"
  }
 },
 "nbformat": 4,
 "nbformat_minor": 2
}
