{
 "cells": [
  {
   "cell_type": "code",
   "execution_count": 49,
   "metadata": {},
   "outputs": [],
   "source": [
    "import numpy as np\n",
    "import pandas as pd"
   ]
  },
  {
   "cell_type": "code",
   "execution_count": 47,
   "metadata": {},
   "outputs": [
    {
     "name": "stdout",
     "output_type": "stream",
     "text": [
      "[28 15 23 21]\n"
     ]
    }
   ],
   "source": [
    "mat1 = np.array([[1,2],[3,4]])\n",
    "mat2 = np.array([[2,3,1],[4,2,1],[1,3,2]])\n",
    "re = mat1.shape[0]\n",
    "cl_e = mat1.shape[1]\n",
    "rs = 0\n",
    "cl_s = 0\n",
    "n_mat = []\n",
    "while True:\n",
    "        \n",
    "    val = mat2[rs:re, cl_s:cl_e]*mat1\n",
    "    sumi = val.sum()\n",
    "    n_mat.append(sumi)\n",
    "    cl_e = cl_e+1\n",
    "    cl_s = cl_s+1\n",
    "    if cl_e > mat2.shape[1]:\n",
    "        cl_s = 0\n",
    "        cl_e = mat1.shape[1]\n",
    "        rs = rs+1\n",
    "        re = re+1\n",
    "    if re > mat2.shape[0]:\n",
    "        break\n",
    "print(np.array(n_mat))"
   ]
  },
  {
   "cell_type": "code",
   "execution_count": null,
   "metadata": {},
   "outputs": [],
   "source": []
  }
 ],
 "metadata": {
  "kernelspec": {
   "display_name": "Python 3",
   "language": "python",
   "name": "python3"
  },
  "language_info": {
   "codemirror_mode": {
    "name": "ipython",
    "version": 3
   },
   "file_extension": ".py",
   "mimetype": "text/x-python",
   "name": "python",
   "nbconvert_exporter": "python",
   "pygments_lexer": "ipython3",
   "version": "3.6.2"
  }
 },
 "nbformat": 4,
 "nbformat_minor": 2
}
