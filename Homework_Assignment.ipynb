{
 "cells": [
  {
   "cell_type": "code",
   "execution_count": 1,
   "metadata": {},
   "outputs": [],
   "source": [
    "import numpy as np"
   ]
  },
  {
   "cell_type": "code",
   "execution_count": 77,
   "metadata": {},
   "outputs": [],
   "source": [
    "def multiply(big_mat,small_mat):\n",
    "    new_mat = np.zeros((big_mat.shape[0]-small_mat.shape[0]+1,big_mat.shape[1]-small_mat.shape[1]+1))\n",
    "    to_row = new_mat.shape[0]\n",
    "    for iy in range(new_mat.shape[0]):\n",
    "        to_col = new_mat.shape[1]\n",
    "        for ix in range(new_mat.shape[1]):\n",
    "            new_mat[iy,ix] = (big_mat[iy : to_row , ix : to_col]*small_mat).sum()\n",
    "            to_col += 1  \n",
    "        to_row += 1\n",
    "        \n",
    "    \n",
    "    return new_mat"
   ]
  },
  {
   "cell_type": "code",
   "execution_count": 78,
   "metadata": {},
   "outputs": [
    {
     "name": "stdout",
     "output_type": "stream",
     "text": [
      "[[28. 15.]\n",
      " [23. 21.]]\n"
     ]
    }
   ],
   "source": [
    "big_mat = np.array([[2,3,1],[4,2,1],[1,3,2]])\n",
    "small_mat = np.array([[1,2],[3,4]])\n",
    "\n",
    "print(multiply(big_mat,small_mat))"
   ]
  }
 ],
 "metadata": {
  "kernelspec": {
   "display_name": "Python 3",
   "language": "python",
   "name": "python3"
  },
  "language_info": {
   "codemirror_mode": {
    "name": "ipython",
    "version": 3
   },
   "file_extension": ".py",
   "mimetype": "text/x-python",
   "name": "python",
   "nbconvert_exporter": "python",
   "pygments_lexer": "ipython3",
   "version": "3.6.5"
  }
 },
 "nbformat": 4,
 "nbformat_minor": 2
}
