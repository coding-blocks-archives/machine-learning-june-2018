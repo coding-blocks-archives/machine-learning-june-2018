{
 "cells": [
  {
   "cell_type": "code",
   "execution_count": 14,
   "metadata": {},
   "outputs": [],
   "source": [
    "import numpy as np"
   ]
  },
  {
   "cell_type": "code",
   "execution_count": 19,
   "metadata": {},
   "outputs": [],
   "source": [
    "def mul(input1,input2):\n",
    "    output=np.zeros((input2.shape[0]-input1.shape[0]+1,input2.shape[0]-input1.shape[1]+1))\n",
    "    for i in range(input2.shape[0]-input1.shape[0]+1):\n",
    "        for j in range(input2.shape[1]-input1.shape[1]+1):\n",
    "            for s in range(input1.shape[0]):\n",
    "                for t in range(input1.shape[1]):\n",
    "                    output[i][j]+=input2[i+s][j+t]*input1[s][t]\n",
    "                    \n",
    "    return output    \n"
   ]
  },
  {
   "cell_type": "code",
   "execution_count": 20,
   "metadata": {},
   "outputs": [
    {
     "name": "stdout",
     "output_type": "stream",
     "text": [
      "[[33. 55. 77.]\n",
      " [23. 45. 53.]\n",
      " [34. 64. 35.]]\n"
     ]
    }
   ],
   "source": [
    "input1=np.array([[1,5],[2,3]])\n",
    "input2=np.array([[2,4,6,8],[1,3,5,7],[2,1,5,1],[3,7,8,3]])\n",
    "x=mul(input1,input2)\n",
    "print(x)"
   ]
  },
  {
   "cell_type": "code",
   "execution_count": null,
   "metadata": {},
   "outputs": [],
   "source": []
  }
 ],
 "metadata": {
  "kernelspec": {
   "display_name": "Python 3",
   "language": "python",
   "name": "python3"
  },
  "language_info": {
   "codemirror_mode": {
    "name": "ipython",
    "version": 3
   },
   "file_extension": ".py",
   "mimetype": "text/x-python",
   "name": "python",
   "nbconvert_exporter": "python",
   "pygments_lexer": "ipython3",
   "version": "3.6.5"
  }
 },
 "nbformat": 4,
 "nbformat_minor": 2
}
