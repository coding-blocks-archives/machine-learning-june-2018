{
 "cells": [
  {
   "cell_type": "code",
   "execution_count": 1,
   "metadata": {},
   "outputs": [
    {
     "name": "stderr",
     "output_type": "stream",
     "text": [
      "Using TensorFlow backend.\n"
     ]
    }
   ],
   "source": [
    "import numpy as np\n",
    "import pandas as pd\n",
    "import matplotlib.pyplot as plt\n",
    "from sklearn.model_selection import train_test_split\n",
    "from keras.layers import Dense, Activation, Input\n",
    "from keras.models import Sequential\n",
    "from keras.utils import np_utils"
   ]
  },
  {
   "cell_type": "code",
   "execution_count": null,
   "metadata": {},
   "outputs": [],
   "source": [
    "###### Dont let ML fool you into thinking this was a label prediction problem. This was not."
   ]
  },
  {
   "cell_type": "code",
   "execution_count": 3,
   "metadata": {},
   "outputs": [],
   "source": [
    "data_csv = pd.read_csv('C:/Users/hp/Downloads/train.csv')"
   ]
  },
  {
   "cell_type": "code",
   "execution_count": 5,
   "metadata": {},
   "outputs": [],
   "source": [
    "data = data_csv[:10000].values"
   ]
  },
  {
   "cell_type": "code",
   "execution_count": 6,
   "metadata": {},
   "outputs": [],
   "source": [
    "data = data[:,1:]/255.0"
   ]
  },
  {
   "cell_type": "code",
   "execution_count": 26,
   "metadata": {},
   "outputs": [
    {
     "name": "stdout",
     "output_type": "stream",
     "text": [
      "(8000, 784)\n"
     ]
    }
   ],
   "source": [
    "split = int(0.8*data.shape[0])\n",
    "X_train = data[:split]\n",
    "Y_train = data[:split]\n",
    "print(X_train.shape)\n",
    "X_test = data[split:]\n",
    "Y_test = data[split:]"
   ]
  },
  {
   "cell_type": "code",
   "execution_count": 10,
   "metadata": {},
   "outputs": [
    {
     "name": "stdout",
     "output_type": "stream",
     "text": [
      "_________________________________________________________________\n",
      "Layer (type)                 Output Shape              Param #   \n",
      "=================================================================\n",
      "dense_1 (Dense)              (None, 100)               78500     \n",
      "_________________________________________________________________\n",
      "activation_1 (Activation)    (None, 100)               0         \n",
      "=================================================================\n",
      "Total params: 78,500\n",
      "Trainable params: 78,500\n",
      "Non-trainable params: 0\n",
      "_________________________________________________________________\n"
     ]
    }
   ],
   "source": [
    "Encoder = Sequential()\n",
    "Encoder.add(Dense(100, input_shape=(784,)))\n",
    "Encoder.add(Activation('sigmoid'))\n",
    "Encoder.summary()"
   ]
  },
  {
   "cell_type": "code",
   "execution_count": 11,
   "metadata": {},
   "outputs": [
    {
     "name": "stdout",
     "output_type": "stream",
     "text": [
      "_________________________________________________________________\n",
      "Layer (type)                 Output Shape              Param #   \n",
      "=================================================================\n",
      "dense_2 (Dense)              (None, 784)               79184     \n",
      "_________________________________________________________________\n",
      "activation_2 (Activation)    (None, 784)               0         \n",
      "=================================================================\n",
      "Total params: 79,184\n",
      "Trainable params: 79,184\n",
      "Non-trainable params: 0\n",
      "_________________________________________________________________\n"
     ]
    }
   ],
   "source": [
    "Decoder= Sequential()\n",
    "Decoder.add(Dense(784, input_shape = (100,)))\n",
    "Decoder.add(Activation('sigmoid'))\n",
    "Decoder.summary()"
   ]
  },
  {
   "cell_type": "code",
   "execution_count": 12,
   "metadata": {},
   "outputs": [],
   "source": [
    "AutoEncoder = Sequential([Encoder,Decoder])"
   ]
  },
  {
   "cell_type": "code",
   "execution_count": 13,
   "metadata": {},
   "outputs": [
    {
     "name": "stdout",
     "output_type": "stream",
     "text": [
      "_________________________________________________________________\n",
      "Layer (type)                 Output Shape              Param #   \n",
      "=================================================================\n",
      "sequential_3 (Sequential)    (None, 100)               78500     \n",
      "_________________________________________________________________\n",
      "sequential_4 (Sequential)    (None, 784)               79184     \n",
      "=================================================================\n",
      "Total params: 157,684\n",
      "Trainable params: 157,684\n",
      "Non-trainable params: 0\n",
      "_________________________________________________________________\n"
     ]
    }
   ],
   "source": [
    "AutoEncoder.summary()"
   ]
  },
  {
   "cell_type": "code",
   "execution_count": 20,
   "metadata": {},
   "outputs": [],
   "source": [
    "AutoEncoder.compile(optimizer='adam',loss='mse',metrics=(['accuracy']))"
   ]
  },
  {
   "cell_type": "code",
   "execution_count": 23,
   "metadata": {},
   "outputs": [
    {
     "name": "stdout",
     "output_type": "stream",
     "text": [
      "Train on 8000 samples, validate on 2000 samples\n",
      "Epoch 1/10\n",
      "8000/8000 [==============================] - 3s 373us/step - loss: 0.0022 - acc: 0.0141 - val_loss: 0.0032 - val_acc: 0.0130\n",
      "Epoch 2/10\n",
      "8000/8000 [==============================] - 3s 381us/step - loss: 0.0022 - acc: 0.0138 - val_loss: 0.0032 - val_acc: 0.0095\n",
      "Epoch 3/10\n",
      "8000/8000 [==============================] - 3s 376us/step - loss: 0.0022 - acc: 0.0143 - val_loss: 0.0032 - val_acc: 0.0125\n",
      "Epoch 4/10\n",
      "8000/8000 [==============================] - 3s 375us/step - loss: 0.0022 - acc: 0.0131 - val_loss: 0.0032 - val_acc: 0.0120\n",
      "Epoch 5/10\n",
      "8000/8000 [==============================] - 3s 376us/step - loss: 0.0022 - acc: 0.0133 - val_loss: 0.0032 - val_acc: 0.0110\n",
      "Epoch 6/10\n",
      "8000/8000 [==============================] - 3s 394us/step - loss: 0.0022 - acc: 0.0125 - val_loss: 0.0032 - val_acc: 0.0105\n",
      "Epoch 7/10\n",
      "8000/8000 [==============================] - 3s 372us/step - loss: 0.0022 - acc: 0.0138 - val_loss: 0.0032 - val_acc: 0.0105\n",
      "Epoch 8/10\n",
      "8000/8000 [==============================] - 3s 423us/step - loss: 0.0022 - acc: 0.0145 - val_loss: 0.0032 - val_acc: 0.0125\n",
      "Epoch 9/10\n",
      "8000/8000 [==============================] - 4s 489us/step - loss: 0.0022 - acc: 0.0136 - val_loss: 0.0032 - val_acc: 0.0105\n",
      "Epoch 10/10\n",
      "8000/8000 [==============================] - 4s 503us/step - loss: 0.0022 - acc: 0.0146 - val_loss: 0.0032 - val_acc: 0.0115\n"
     ]
    },
    {
     "data": {
      "text/plain": [
       "<keras.callbacks.History at 0x24c3bb6fd30>"
      ]
     },
     "execution_count": 23,
     "metadata": {},
     "output_type": "execute_result"
    }
   ],
   "source": [
    "AutoEncoder.fit(X_train,Y_train,batch_size=10,epochs=10,validation_data=[X_test,Y_test],shuffle=True)"
   ]
  },
  {
   "cell_type": "code",
   "execution_count": 16,
   "metadata": {},
   "outputs": [],
   "source": [
    "sample = X_train[1]"
   ]
  },
  {
   "cell_type": "code",
   "execution_count": 24,
   "metadata": {},
   "outputs": [
    {
     "name": "stdout",
     "output_type": "stream",
     "text": [
      "[0.         0.         0.         0.         0.         0.\n",
      " 0.         0.         0.         0.         0.         0.\n",
      " 0.         0.         0.         0.         0.         0.\n",
      " 0.         0.         0.         0.         0.         0.\n",
      " 0.         0.         0.         0.         0.         0.\n",
      " 0.         0.         0.         0.         0.         0.\n",
      " 0.         0.         0.         0.         0.         0.\n",
      " 0.         0.         0.         0.         0.         0.\n",
      " 0.         0.         0.         0.         0.         0.\n",
      " 0.         0.         0.         0.         0.         0.\n",
      " 0.         0.         0.         0.         0.         0.\n",
      " 0.         0.         0.         0.         0.         0.\n",
      " 0.         0.         0.         0.         0.         0.\n",
      " 0.         0.         0.         0.         0.         0.\n",
      " 0.         0.         0.         0.         0.         0.\n",
      " 0.         0.         0.         0.         0.         0.\n",
      " 0.         0.         0.         0.         0.         0.\n",
      " 0.         0.         0.         0.         0.         0.\n",
      " 0.         0.         0.         0.         0.         0.\n",
      " 0.         0.         0.         0.         0.         0.\n",
      " 0.         0.         0.07058824 0.11764706 0.5372549  0.5372549\n",
      " 0.75294118 0.3372549  0.28235294 0.00392157 0.         0.\n",
      " 0.         0.         0.         0.         0.         0.\n",
      " 0.         0.         0.         0.         0.         0.\n",
      " 0.         0.         0.         0.         0.05098039 0.3372549\n",
      " 0.98039216 0.99607843 0.99607843 0.99607843 0.99607843 0.85098039\n",
      " 0.96470588 0.59215686 0.1254902  0.         0.         0.\n",
      " 0.         0.         0.         0.         0.         0.\n",
      " 0.         0.         0.         0.         0.         0.\n",
      " 0.         0.0627451  0.70196078 0.99607843 0.99607843 0.99607843\n",
      " 0.99607843 0.99607843 0.99607843 0.99607843 0.99607843 0.99607843\n",
      " 0.90588235 0.21176471 0.05882353 0.         0.         0.\n",
      " 0.         0.         0.         0.         0.         0.\n",
      " 0.         0.         0.         0.         0.         0.28235294\n",
      " 0.99607843 0.99607843 0.99607843 0.99607843 0.99607843 0.99607843\n",
      " 0.99607843 0.99607843 0.99607843 0.99607843 0.99607843 0.99607843\n",
      " 0.40784314 0.         0.         0.         0.         0.\n",
      " 0.         0.         0.         0.         0.         0.\n",
      " 0.         0.         0.23921569 0.74901961 0.99607843 0.99607843\n",
      " 0.99607843 0.99607843 0.99607843 0.42745098 0.3254902  0.78039216\n",
      " 0.99607843 0.99607843 0.99607843 0.99607843 0.95294118 0.33333333\n",
      " 0.         0.         0.         0.         0.         0.\n",
      " 0.         0.         0.         0.         0.         0.\n",
      " 0.6745098  0.99607843 0.99607843 0.99607843 0.79215686 0.57647059\n",
      " 0.57647059 0.17647059 0.         0.04313725 0.11372549 0.78431373\n",
      " 0.99607843 0.99607843 0.99607843 0.67058824 0.         0.\n",
      " 0.         0.         0.         0.         0.         0.\n",
      " 0.         0.         0.         0.00392157 0.68235294 0.99607843\n",
      " 0.99607843 0.34901961 0.2627451  0.         0.         0.\n",
      " 0.         0.         0.         0.50196078 0.98823529 0.99607843\n",
      " 0.99607843 0.83137255 0.29803922 0.         0.         0.\n",
      " 0.         0.         0.         0.         0.         0.\n",
      " 0.         0.18431373 0.99607843 0.99607843 0.99607843 0.11372549\n",
      " 0.         0.         0.         0.         0.         0.\n",
      " 0.         0.         0.3254902  0.99607843 0.99607843 0.99607843\n",
      " 0.6        0.         0.         0.         0.         0.\n",
      " 0.         0.         0.         0.         0.         0.31372549\n",
      " 0.99607843 0.99607843 0.94117647 0.09411765 0.         0.\n",
      " 0.         0.         0.         0.         0.         0.\n",
      " 0.09803922 0.94117647 0.99607843 0.99607843 0.6        0.\n",
      " 0.         0.         0.         0.         0.         0.\n",
      " 0.         0.         0.         0.25098039 0.99607843 0.99607843\n",
      " 0.72941176 0.02745098 0.         0.         0.         0.\n",
      " 0.         0.         0.         0.         0.         0.65098039\n",
      " 0.99607843 0.99607843 0.87843137 0.04705882 0.         0.\n",
      " 0.         0.         0.         0.         0.         0.\n",
      " 0.05490196 0.90980392 0.99607843 0.99607843 0.99607843 0.11372549\n",
      " 0.         0.         0.         0.         0.         0.\n",
      " 0.         0.         0.         0.29411765 0.99607843 0.99607843\n",
      " 0.99607843 0.06666667 0.         0.         0.         0.\n",
      " 0.         0.         0.         0.         0.07058824 0.99607843\n",
      " 0.99607843 0.99607843 0.99607843 0.11372549 0.         0.\n",
      " 0.         0.         0.         0.         0.         0.\n",
      " 0.         0.18823529 0.99607843 0.99607843 0.99607843 0.06666667\n",
      " 0.         0.         0.         0.         0.         0.\n",
      " 0.         0.         0.00784314 0.63921569 0.99607843 0.99607843\n",
      " 0.99607843 0.11372549 0.         0.         0.         0.\n",
      " 0.         0.         0.         0.         0.         0.18823529\n",
      " 0.99607843 0.99607843 0.99607843 0.06666667 0.         0.\n",
      " 0.         0.         0.         0.         0.         0.\n",
      " 0.         0.36862745 0.99607843 0.99607843 0.99607843 0.78431373\n",
      " 0.04705882 0.         0.         0.         0.         0.\n",
      " 0.         0.         0.0627451  0.81960784 0.99607843 0.99607843\n",
      " 0.58823529 0.00392157 0.         0.         0.         0.\n",
      " 0.         0.         0.         0.         0.         0.05882353\n",
      " 0.80784314 0.99607843 0.99607843 0.99607843 0.79215686 0.25882353\n",
      " 0.         0.         0.         0.         0.         0.08235294\n",
      " 0.63137255 0.99607843 0.99607843 0.96078431 0.12156863 0.\n",
      " 0.         0.         0.         0.         0.         0.\n",
      " 0.         0.         0.         0.         0.23529412 0.83137255\n",
      " 0.99607843 0.99607843 0.99607843 0.76078431 0.18823529 0.18823529\n",
      " 0.13333333 0.16078431 0.18823529 0.81960784 0.99607843 0.99607843\n",
      " 0.99607843 0.67058824 0.         0.         0.         0.\n",
      " 0.         0.         0.         0.         0.         0.\n",
      " 0.         0.         0.         0.3372549  0.95294118 0.99607843\n",
      " 0.99607843 0.99607843 0.99607843 0.99607843 0.91372549 0.95294118\n",
      " 0.99607843 0.99607843 0.99607843 0.99607843 0.99607843 0.3372549\n",
      " 0.         0.         0.         0.         0.         0.\n",
      " 0.         0.         0.         0.         0.         0.\n",
      " 0.         0.         0.44705882 0.99607843 0.99607843 0.99607843\n",
      " 0.99607843 0.99607843 0.99607843 0.99607843 0.99607843 0.99607843\n",
      " 0.99607843 0.9372549  0.3372549  0.04313725 0.         0.\n",
      " 0.         0.         0.         0.         0.         0.\n",
      " 0.         0.         0.         0.         0.         0.\n",
      " 0.05098039 0.71372549 0.99607843 0.99607843 0.99607843 0.99607843\n",
      " 0.99607843 0.99607843 0.99607843 0.99607843 0.95294118 0.2745098\n",
      " 0.         0.         0.         0.         0.         0.\n",
      " 0.         0.         0.         0.         0.         0.\n",
      " 0.         0.         0.         0.         0.         0.03137255\n",
      " 0.29803922 0.57254902 0.99607843 1.         0.99607843 1.\n",
      " 0.57254902 0.0745098  0.05882353 0.         0.         0.\n",
      " 0.         0.         0.         0.         0.         0.\n",
      " 0.         0.         0.         0.         0.         0.\n",
      " 0.         0.         0.         0.         0.         0.\n",
      " 0.         0.         0.         0.         0.         0.\n",
      " 0.         0.         0.         0.         0.         0.\n",
      " 0.         0.         0.         0.         0.         0.\n",
      " 0.         0.         0.         0.         0.         0.\n",
      " 0.         0.         0.         0.         0.         0.\n",
      " 0.         0.         0.         0.         0.         0.\n",
      " 0.         0.         0.         0.         0.         0.\n",
      " 0.         0.         0.         0.         0.         0.\n",
      " 0.         0.         0.         0.         0.         0.\n",
      " 0.         0.         0.         0.         0.         0.\n",
      " 0.         0.         0.         0.         0.         0.\n",
      " 0.         0.         0.         0.         0.         0.\n",
      " 0.         0.         0.         0.         0.         0.\n",
      " 0.         0.         0.         0.         0.         0.\n",
      " 0.         0.         0.         0.         0.         0.\n",
      " 0.         0.         0.         0.         0.         0.\n",
      " 0.         0.         0.         0.        ]\n"
     ]
    }
   ],
   "source": [
    "print(sample)"
   ]
  },
  {
   "cell_type": "code",
   "execution_count": 46,
   "metadata": {},
   "outputs": [
    {
     "data": {
      "text/plain": [
       "<matplotlib.image.AxesImage at 0x24c3ddc4128>"
      ]
     },
     "execution_count": 46,
     "metadata": {},
     "output_type": "execute_result"
    },
    {
     "data": {
      "image/png": "[encoded data removed]",
      "text/plain": [
       "<Figure size 432x288 with 1 Axes>"
      ]
     },
     "metadata": {},
     "output_type": "display_data"
    }
   ],
   "source": [
    "\n",
    "plt.imshow(np.reshape(X_test[5]*255,(28,28)),cmap = 'gray')"
   ]
  },
  {
   "cell_type": "code",
   "execution_count": 41,
   "metadata": {},
   "outputs": [],
   "source": [
    "out = AutoEncoder.predict(np.array([X_test[5]])) ## Predict function takes input np arrays only"
   ]
  },
  {
   "cell_type": "code",
   "execution_count": 42,
   "metadata": {},
   "outputs": [
    {
     "name": "stdout",
     "output_type": "stream",
     "text": [
      "[[1.14563867e-04 1.18369382e-04 1.26758430e-04 1.34664791e-04\n",
      "  1.04155013e-04 1.04162558e-04 9.59182144e-05 1.03042657e-04\n",
      "  1.06082436e-04 1.19629942e-04 1.32273984e-04 9.56038130e-05\n",
      "  1.10965724e-04 8.86760608e-05 1.07741827e-04 1.21744772e-04\n",
      "  1.13997412e-04 1.15625691e-04 1.11414745e-04 1.12243630e-04\n",
      "  1.39713185e-04 1.03275692e-04 1.03095932e-04 1.15285387e-04\n",
      "  1.17119860e-04 1.01761143e-04 1.01293430e-04 1.34650545e-04\n",
      "  1.19566190e-04 1.02235586e-04 1.20657467e-04 1.10011497e-04\n",
      "  9.51308248e-05 1.07140229e-04 1.84921504e-04 1.17284036e-03\n",
      "  6.06023183e-04 3.89898865e-04 1.65292446e-03 2.77579093e-04\n",
      "  1.16849347e-04 7.49045168e-04 3.68821609e-04 5.71699820e-05\n",
      "  6.38799218e-04 8.48376949e-04 9.64821898e-04 7.49142258e-04\n",
      "  3.19472211e-03 3.95089388e-04 1.65031612e-04 1.21174584e-04\n",
      "  9.85062361e-05 1.19461794e-04 1.44422273e-04 9.94445654e-05\n",
      "  1.33407040e-04 9.53700728e-05 1.08947599e-04 1.26794461e-04\n",
      "  1.20492019e-04 1.59484174e-04 6.89967826e-04 1.01173716e-02\n",
      "  1.31647088e-04 9.06962727e-04 2.32817559e-03 2.05051224e-03\n",
      "  1.81573836e-04 5.08785364e-04 9.78661003e-04 1.58223949e-04\n",
      "  1.11044261e-04 6.74977433e-04 8.86799302e-04 5.59808570e-04\n",
      "  2.60281464e-04 1.29512715e-04 3.48551257e-04 6.68082212e-04\n",
      "  6.44033263e-03 1.84123273e-04 1.27227671e-04 1.02596452e-04\n",
      "  1.25773542e-04 1.65861085e-04 1.00829311e-04 1.11534326e-04\n",
      "  1.05532257e-04 1.45158556e-04 1.53674604e-03 3.53917538e-04\n",
      "  1.15128838e-04 4.50337684e-04 8.42496986e-04 3.09061783e-04\n",
      "  2.44412629e-04 4.57139395e-04 6.27644593e-04 6.65112922e-04\n",
      "  1.30701752e-03 9.72368347e-04 8.34596634e-04 5.94835030e-04\n",
      "  7.92701088e-04 7.50461593e-04 5.21684007e-04 3.22977983e-04\n",
      "  2.50559155e-04 1.26170728e-03 1.09462548e-04 1.02414546e-04\n",
      "  1.37341412e-04 9.62072154e-05 1.11698988e-04 1.72369124e-04\n",
      "  1.34357309e-03 1.48071384e-03 2.77092215e-03 6.17574900e-04\n",
      "  4.24636208e-04 1.84930861e-03 4.14648792e-03 1.22649642e-03\n",
      "  1.19168509e-03 1.73710054e-03 2.21732515e-03 9.51208360e-03\n",
      "  1.27538852e-02 3.40743326e-02 2.18126290e-02 8.60858243e-03\n",
      "  3.60050006e-03 1.10549445e-03 5.50376205e-03 1.19909656e-03\n",
      "  1.31677592e-03 1.88841019e-04 1.96869412e-04 1.18686978e-04\n",
      "  1.36002098e-04 1.12222551e-04 1.17527765e-04 4.03795915e-04\n",
      "  6.76479563e-03 6.93808962e-03 2.52331491e-03 5.72525023e-04\n",
      "  1.94780051e-03 3.74087058e-02 6.20617084e-02 1.51699241e-02\n",
      "  8.06727819e-03 6.50131516e-03 1.72403213e-02 9.20848921e-02\n",
      "  6.00263596e-01 5.39197683e-01 5.49804308e-02 4.88462718e-03\n",
      "  3.57148470e-03 8.50842614e-03 1.12926436e-03 2.92374898e-04\n",
      "  3.45315086e-04 6.50635848e-05 1.19059565e-04 1.60162046e-04\n",
      "  1.21891469e-04 1.00777404e-04 1.96026359e-03 4.94601089e-04\n",
      "  2.55425950e-03 3.13202525e-03 2.84115155e-03 4.88087349e-03\n",
      "  3.46064717e-02 4.87517476e-01 4.72421974e-01 5.90732992e-02\n",
      "  1.18781561e-02 1.20874140e-02 1.43383183e-02 9.80818346e-02\n",
      "  8.28918397e-01 8.47279727e-01 1.09220840e-01 3.48880445e-03\n",
      "  5.57262730e-03 1.05781769e-02 5.71100623e-04 1.25233462e-04\n",
      "  2.74034770e-04 2.56372587e-04 2.57665699e-04 1.34006652e-04\n",
      "  1.11937181e-04 1.18429562e-04 3.49106267e-04 1.81445081e-04\n",
      "  1.88915560e-03 9.71129164e-04 1.64240203e-03 2.18232069e-03\n",
      "  5.29422611e-02 7.67482519e-01 8.38702440e-01 1.07592449e-01\n",
      "  9.24505480e-03 1.42522529e-02 9.26158857e-03 2.93832179e-02\n",
      "  7.37114131e-01 8.82057369e-01 8.05041641e-02 5.48735913e-03\n",
      "  1.91358104e-02 1.65203046e-02 6.92274421e-04 1.50199878e-04\n",
      "  4.00114164e-04 7.93162850e-04 4.72476851e-04 1.30349625e-04\n",
      "  1.13997630e-04 3.06463597e-04 5.36666543e-04 6.65636384e-04\n",
      "  4.73055989e-03 9.35645588e-03 4.70920606e-03 9.34987969e-04\n",
      "  1.33540928e-02 5.74063361e-01 8.33685637e-01 1.43064976e-01\n",
      "  1.36785563e-02 8.45222641e-03 8.47173855e-03 1.79379042e-02\n",
      "  5.82012296e-01 7.07737088e-01 2.88108978e-02 5.68116177e-03\n",
      "  3.84747013e-02 2.08432879e-02 2.49243504e-03 3.26803216e-04\n",
      "  8.95598962e-04 1.26336375e-03 1.53138652e-03 2.22707924e-04\n",
      "  9.86186424e-05 4.92259278e-04 1.57553388e-03 1.81415603e-02\n",
      "  1.40171032e-02 1.73171610e-02 3.18354964e-02 2.45615817e-03\n",
      "  1.61915123e-02 6.64519787e-01 9.04791117e-01 1.45784453e-01\n",
      "  1.55871864e-02 1.09780291e-02 1.17585389e-02 3.87606546e-02\n",
      "  7.12383330e-01 7.61141896e-01 2.04131342e-02 3.87772941e-03\n",
      "  3.58367935e-02 2.04244256e-02 3.40029295e-03 3.40534770e-03\n",
      "  4.06912109e-03 6.03413442e-04 9.08858201e-05 5.74434584e-04\n",
      "  1.02701284e-04 1.70218199e-03 1.83558594e-02 5.08222021e-02\n",
      "  9.13282391e-03 2.88938507e-02 2.79108044e-02 3.25837103e-03\n",
      "  2.87746247e-02 7.60302007e-01 9.43821728e-01 2.20003992e-01\n",
      "  1.05082076e-02 6.45040628e-03 5.60571812e-03 1.80724151e-02\n",
      "  8.20748448e-01 9.07334030e-01 6.48715571e-02 4.10346640e-03\n",
      "  2.53317654e-02 2.90142614e-02 1.80226902e-03 4.16636816e-04\n",
      "  1.46313221e-03 2.38544206e-04 4.09674860e-04 1.75435169e-04\n",
      "  1.33577734e-04 1.20741350e-03 9.03472188e-04 2.81083887e-03\n",
      "  2.11909367e-03 1.09429676e-02 2.33402872e-03 1.87783747e-03\n",
      "  2.74187122e-02 7.95563400e-01 9.07796085e-01 1.28266007e-01\n",
      "  9.67481639e-03 8.13436322e-03 4.41546179e-03 2.70149093e-02\n",
      "  8.80930543e-01 9.52968895e-01 1.39667526e-01 3.70632485e-03\n",
      "  2.70029623e-02 9.58553422e-03 1.50514860e-03 5.19979978e-04\n",
      "  6.57473807e-04 2.09487579e-03 4.05325845e-04 9.13399563e-05\n",
      "  1.11987363e-04 2.69832410e-04 1.38732270e-04 1.77067326e-04\n",
      "  5.90870332e-04 8.36424995e-03 2.01421371e-03 2.75533111e-03\n",
      "  6.69915229e-02 8.60676646e-01 8.74676824e-01 6.05632924e-02\n",
      "  8.06959067e-03 2.87403557e-02 3.46105453e-03 2.44315211e-02\n",
      "  8.58807623e-01 9.27854061e-01 7.34991729e-02 5.78855257e-03\n",
      "  4.49129194e-03 3.82839167e-03 1.03254919e-03 1.11582992e-03\n",
      "  2.57477886e-03 1.25473074e-03 2.13274776e-04 1.20583514e-04\n",
      "  1.07306267e-04 1.18876123e-04 3.00375414e-05 3.85928026e-04\n",
      "  4.48215811e-04 3.98237212e-03 2.36073066e-03 1.49949091e-02\n",
      "  2.58175999e-01 9.11502242e-01 7.58926570e-01 2.43679564e-02\n",
      "  7.06508989e-03 1.12659242e-02 4.03755577e-03 2.98288614e-02\n",
      "  7.82042563e-01 9.20910001e-01 2.71454781e-01 3.97334211e-02\n",
      "  2.11188775e-02 7.74143683e-03 7.69004924e-04 2.09777849e-03\n",
      "  4.23847586e-02 1.66844856e-03 6.14278298e-03 2.16192930e-04\n",
      "  1.19651733e-04 1.15729046e-04 1.54981346e-04 2.10602957e-04\n",
      "  1.37249517e-04 1.56006147e-03 3.93321738e-03 3.97963636e-02\n",
      "  5.01096964e-01 9.33487594e-01 3.13384145e-01 3.64763127e-03\n",
      "  2.37457640e-03 7.16596330e-03 7.28149386e-03 6.54541999e-02\n",
      "  8.51866245e-01 9.74960029e-01 8.80107760e-01 7.67516911e-01\n",
      "  8.45670819e-01 1.35943830e-01 2.13007238e-02 2.00562440e-02\n",
      "  1.94046974e-01 8.62923544e-03 1.02547999e-03 1.65768128e-04\n",
      "  1.24585393e-04 1.02053644e-04 1.43083918e-03 5.42719034e-04\n",
      "  1.74050569e-04 8.45578150e-04 5.63658215e-03 5.22908196e-02\n",
      "  7.43335903e-01 9.64892805e-01 5.92500091e-01 6.01714179e-02\n",
      "  4.10761796e-02 1.74690619e-01 3.32175404e-01 7.25662708e-01\n",
      "  9.70869780e-01 9.82901573e-01 9.50343370e-01 9.50034916e-01\n",
      "  8.91890585e-01 1.69173017e-01 7.08307838e-03 4.55060694e-03\n",
      "  1.46429380e-02 9.61768499e-04 2.20122311e-05 3.96967807e-04\n",
      "  1.26714076e-04 1.01615500e-04 4.08698135e-04 1.89437778e-04\n",
      "  1.34016655e-03 4.76577971e-03 5.40515129e-03 2.15050168e-02\n",
      "  5.51175356e-01 9.78084266e-01 9.78393257e-01 8.96991134e-01\n",
      "  9.12336051e-01 9.56917524e-01 9.61111486e-01 9.58166540e-01\n",
      "  9.80828345e-01 9.56566036e-01 3.63963544e-01 1.52607203e-01\n",
      "  9.02584791e-02 1.44934217e-02 3.80461896e-03 4.45955142e-04\n",
      "  5.04256634e-04 8.67510898e-05 3.33252392e-05 1.61738149e-04\n",
      "  1.06922933e-04 1.40246833e-04 3.22881300e-04 2.91798468e-04\n",
      "  9.50145628e-03 2.17451397e-02 1.54082533e-02 1.33576496e-02\n",
      "  1.64822027e-01 8.67788553e-01 9.06538010e-01 8.57274532e-01\n",
      "  8.29183340e-01 7.28935301e-01 4.45362657e-01 3.53495151e-01\n",
      "  8.57657731e-01 7.47660816e-01 2.12740134e-02 2.34995852e-03\n",
      "  5.82418544e-03 2.19467562e-03 2.04048073e-03 3.17708909e-04\n",
      "  1.17804222e-04 1.22743266e-04 6.88107611e-05 1.68206447e-04\n",
      "  1.31411434e-04 2.30707010e-04 2.70794204e-04 5.62918023e-04\n",
      "  8.60051997e-03 2.72379015e-02 2.18757875e-02 8.78459588e-03\n",
      "  1.83027629e-02 7.28641674e-02 1.03355452e-01 6.46046177e-02\n",
      "  5.55395074e-02 2.49184389e-02 5.21211373e-03 3.71980518e-02\n",
      "  8.97409797e-01 8.22991312e-01 3.29924263e-02 2.53260462e-03\n",
      "  1.00685963e-02 6.05330896e-03 4.80395183e-03 2.31042132e-03\n",
      "  6.68738619e-04 6.68726861e-04 4.67214668e-05 1.24412894e-04\n",
      "  1.07111831e-04 1.02858862e-03 1.10990055e-04 3.55867174e-04\n",
      "  1.71650515e-03 3.23457494e-02 4.19142246e-02 6.22022804e-03\n",
      "  1.31367166e-02 1.27774058e-02 7.37227825e-03 3.45773390e-03\n",
      "  4.63814847e-03 7.45092891e-03 4.42393404e-03 1.29962206e-01\n",
      "  9.67418849e-01 9.40037429e-01 5.07605709e-02 6.41942304e-03\n",
      "  2.00354718e-02 2.92972568e-02 1.57284923e-02 4.79747728e-03\n",
      "  1.18987029e-03 2.77197221e-03 3.79007797e-05 1.13312155e-04\n",
      "  1.12526432e-04 1.71061081e-04 2.81572011e-05 5.40778783e-05\n",
      "  3.43102845e-03 2.72113848e-02 1.36871096e-02 9.02936235e-03\n",
      "  1.11823697e-02 1.75494850e-02 1.37744006e-02 4.23344411e-03\n",
      "  7.53924111e-03 1.61263421e-02 1.91026349e-02 2.94297278e-01\n",
      "  9.75223601e-01 8.76973987e-01 2.17330046e-02 2.76173907e-03\n",
      "  1.17100710e-02 1.33568188e-02 4.20917943e-03 2.47820793e-03\n",
      "  5.23437047e-04 2.41407208e-04 4.08356573e-05 1.06132320e-04\n",
      "  1.15860879e-04 1.20494318e-04 1.21643498e-05 4.91986284e-04\n",
      "  5.36888605e-04 8.09419341e-03 1.35709420e-02 7.67423632e-03\n",
      "  9.92489047e-03 1.32361613e-02 9.82950721e-03 9.41851363e-03\n",
      "  1.65858101e-02 2.03579944e-02 1.95650999e-02 2.00861931e-01\n",
      "  9.25414145e-01 5.98954797e-01 8.09536874e-03 9.81690828e-04\n",
      "  1.91587908e-03 4.23665764e-03 7.15257309e-04 2.20348214e-04\n",
      "  1.72285159e-04 2.69753709e-05 8.69688520e-05 1.30710832e-04\n",
      "  1.26946397e-04 9.88894753e-05 2.68337171e-05 2.65088747e-04\n",
      "  1.84081669e-04 1.87269016e-03 1.29359718e-02 7.37351738e-03\n",
      "  1.29378345e-02 2.88118608e-02 1.03480918e-02 7.48188049e-03\n",
      "  1.99308004e-02 6.72750873e-03 5.27726952e-03 8.51474330e-02\n",
      "  8.72191668e-01 6.56022906e-01 2.03418825e-02 5.26979391e-04\n",
      "  1.06991292e-03 1.20615703e-03 5.63355279e-04 1.21976234e-04\n",
      "  8.93961260e-05 2.65051582e-04 1.13328795e-04 9.68743698e-05\n",
      "  1.11090754e-04 1.11357280e-04 3.41312756e-04 2.18925252e-05\n",
      "  6.86221028e-05 6.23833796e-04 1.24238031e-02 2.01219339e-02\n",
      "  2.40894333e-02 4.25764807e-02 1.49011342e-02 7.98196997e-03\n",
      "  1.15603562e-02 5.23261074e-03 5.39850350e-03 5.03796786e-02\n",
      "  8.97500336e-01 9.03406799e-01 1.17904820e-01 1.61173020e-03\n",
      "  1.96676538e-03 6.86779560e-04 2.89314194e-04 1.29661741e-04\n",
      "  4.17045376e-05 1.39749696e-04 1.45558428e-04 8.11471909e-05\n",
      "  9.02745378e-05 1.14799957e-04 3.25419707e-04 3.14254576e-05\n",
      "  8.18429617e-05 2.86613504e-04 6.66963169e-04 9.13552823e-04\n",
      "  2.98841554e-03 9.79337376e-03 8.40778835e-03 1.00492416e-02\n",
      "  1.78749133e-02 9.57265031e-03 9.89813358e-03 4.42596152e-02\n",
      "  7.75408804e-01 7.66416013e-01 5.44142574e-02 4.04197071e-03\n",
      "  1.88013818e-03 5.89831383e-04 4.31045366e-04 2.69063254e-04\n",
      "  5.68951888e-04 2.49686796e-04 1.25572595e-04 1.07456486e-04\n",
      "  1.16155570e-04 9.90570916e-05 1.57691378e-04 2.56660423e-04\n",
      "  3.65697597e-05 9.92571731e-05 9.43128471e-05 2.37057138e-05\n",
      "  2.36273874e-04 8.31733050e-04 2.50143814e-04 8.57070496e-04\n",
      "  3.37507227e-03 1.01637272e-02 1.44641371e-02 2.41693929e-02\n",
      "  3.70192379e-02 2.54699830e-02 4.02690331e-03 3.74030700e-04\n",
      "  5.66231203e-04 3.49691371e-04 8.31546859e-05 8.67022900e-04\n",
      "  1.05663370e-04 2.45015777e-04 1.10700130e-04 9.57767261e-05\n",
      "  1.02162296e-04 1.10629640e-04 1.38059244e-04 1.44833248e-04\n",
      "  1.31180568e-04 2.65481038e-04 1.18360796e-04 1.29450855e-04\n",
      "  2.00473223e-04 7.28307987e-06 8.79784420e-06 1.78017872e-04\n",
      "  3.58058227e-04 1.02557137e-03 4.17167001e-04 1.80372433e-03\n",
      "  2.62407644e-04 5.49849821e-04 9.53790324e-04 2.98850064e-04\n",
      "  2.99014791e-04 2.98791099e-04 8.59816908e-04 2.01573814e-04\n",
      "  1.07665306e-04 1.13891147e-04 1.15307703e-04 1.23621401e-04\n",
      "  1.30067041e-04 1.23884791e-04 1.06216859e-04 1.26788640e-04\n",
      "  1.01793070e-04 2.76321720e-04 4.68683342e-04 3.70453647e-03\n",
      "  1.55940140e-03 1.62111188e-04 1.14096154e-04 6.34963042e-04\n",
      "  1.38499250e-04 2.21185246e-03 8.66596296e-04 5.45904186e-05\n",
      "  3.32748750e-05 1.67869017e-04 1.10023764e-04 7.45747893e-05\n",
      "  1.59898671e-04 1.21253644e-04 1.08547734e-04 1.15422990e-04\n",
      "  1.00325407e-04 1.27087260e-04 1.22404774e-04 1.24254628e-04]]\n"
     ]
    }
   ],
   "source": [
    "print(out)"
   ]
  },
  {
   "cell_type": "code",
   "execution_count": 43,
   "metadata": {},
   "outputs": [
    {
     "name": "stdout",
     "output_type": "stream",
     "text": [
      "(1, 784)\n"
     ]
    }
   ],
   "source": [
    "print(out.shape)"
   ]
  },
  {
   "cell_type": "code",
   "execution_count": 44,
   "metadata": {},
   "outputs": [],
   "source": [
    "out = np.array(out*255, dtype=np.uint8)"
   ]
  },
  {
   "cell_type": "code",
   "execution_count": 45,
   "metadata": {},
   "outputs": [
    {
     "data": {
      "text/plain": [
       "<matplotlib.image.AxesImage at 0x24c3dd65e80>"
      ]
     },
     "execution_count": 45,
     "metadata": {},
     "output_type": "execute_result"
    },
    {
     "data": {
      "image/png": "[encoded data removed]",
      "text/plain": [
       "<Figure size 432x288 with 1 Axes>"
      ]
     },
     "metadata": {},
     "output_type": "display_data"
    }
   ],
   "source": [
    "plt.imshow(np.reshape(out,(28,28)),cmap='gray')"
   ]
  },
  {
   "cell_type": "code",
   "execution_count": null,
   "metadata": {},
   "outputs": [],
   "source": []
  }
 ],
 "metadata": {
  "kernelspec": {
   "display_name": "Python 3",
   "language": "python",
   "name": "python3"
  },
  "language_info": {
   "codemirror_mode": {
    "name": "ipython",
    "version": 3
   },
   "file_extension": ".py",
   "mimetype": "text/x-python",
   "name": "python",
   "nbconvert_exporter": "python",
   "pygments_lexer": "ipython3",
   "version": "3.6.0"
  }
 },
 "nbformat": 4,
 "nbformat_minor": 2
}
