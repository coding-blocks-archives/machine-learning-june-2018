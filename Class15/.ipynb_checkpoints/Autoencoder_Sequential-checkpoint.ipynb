{
 "cells": [
  {
   "cell_type": "code",
   "execution_count": 25,
   "metadata": {},
   "outputs": [],
   "source": [
    "import numpy as np\n",
    "import pandas as pd\n",
    "import matplotlib.pyplot as plt\n",
    "from sklearn.model_selection import train_test_split\n",
    "from keras.layers import Dense, Activation, Input\n",
    "from keras.models import Sequential\n",
    "from keras.utils import np_utils"
   ]
  },
  {
   "cell_type": "code",
   "execution_count": 26,
   "metadata": {},
   "outputs": [],
   "source": [
    "data_csv = pd.read_csv('../Class/machine-learning-june-2018/Class15/train.csv')"
   ]
  },
  {
   "cell_type": "code",
   "execution_count": 27,
   "metadata": {},
   "outputs": [],
   "source": [
    "data = data_csv[:10000].values"
   ]
  },
  {
   "cell_type": "code",
   "execution_count": 28,
   "metadata": {},
   "outputs": [],
   "source": [
    "data = data[:,1:]/255.0"
   ]
  },
  {
   "cell_type": "code",
   "execution_count": 29,
   "metadata": {},
   "outputs": [],
   "source": [
    "split = int(0.8*data.shape[0])\n",
    "X_train = data[:split]\n",
    "Y_train = data[:split]\n",
    "\n",
    "X_test = data[split:]\n",
    "Y_test = data[split:]"
   ]
  },
  {
   "cell_type": "code",
   "execution_count": 30,
   "metadata": {},
   "outputs": [
    {
     "name": "stdout",
     "output_type": "stream",
     "text": [
      "_________________________________________________________________\n",
      "Layer (type)                 Output Shape              Param #   \n",
      "=================================================================\n",
      "dense_5 (Dense)              (None, 100)               78500     \n",
      "_________________________________________________________________\n",
      "activation_3 (Activation)    (None, 100)               0         \n",
      "=================================================================\n",
      "Total params: 78,500\n",
      "Trainable params: 78,500\n",
      "Non-trainable params: 0\n",
      "_________________________________________________________________\n"
     ]
    }
   ],
   "source": [
    "Encoder = Sequential()\n",
    "Encoder.add( Dense(100, input_shape = (784,) ) )\n",
    "Encoder.add( Activation('sigmoid') )\n",
    "Encoder.summary()"
   ]
  },
  {
   "cell_type": "code",
   "execution_count": 31,
   "metadata": {},
   "outputs": [
    {
     "name": "stdout",
     "output_type": "stream",
     "text": [
      "_________________________________________________________________\n",
      "Layer (type)                 Output Shape              Param #   \n",
      "=================================================================\n",
      "dense_6 (Dense)              (None, 784)               79184     \n",
      "_________________________________________________________________\n",
      "activation_4 (Activation)    (None, 784)               0         \n",
      "=================================================================\n",
      "Total params: 79,184\n",
      "Trainable params: 79,184\n",
      "Non-trainable params: 0\n",
      "_________________________________________________________________\n"
     ]
    }
   ],
   "source": [
    "Decoder = Sequential()\n",
    "Decoder.add( Dense(784, input_shape = (100,)) )\n",
    "Decoder.add( Activation('sigmoid') )\n",
    "Decoder.summary()"
   ]
  },
  {
   "cell_type": "code",
   "execution_count": 32,
   "metadata": {},
   "outputs": [
    {
     "name": "stdout",
     "output_type": "stream",
     "text": [
      "_________________________________________________________________\n",
      "Layer (type)                 Output Shape              Param #   \n",
      "=================================================================\n",
      "sequential_7 (Sequential)    (None, 100)               78500     \n",
      "_________________________________________________________________\n",
      "sequential_8 (Sequential)    (None, 784)               79184     \n",
      "=================================================================\n",
      "Total params: 157,684\n",
      "Trainable params: 157,684\n",
      "Non-trainable params: 0\n",
      "_________________________________________________________________\n"
     ]
    }
   ],
   "source": [
    "AutoEncoder = Sequential([Encoder, Decoder])\n",
    "AutoEncoder.summary()"
   ]
  },
  {
   "cell_type": "code",
   "execution_count": 33,
   "metadata": {},
   "outputs": [],
   "source": [
    "AutoEncoder.compile(optimizer='adam', loss='mse')"
   ]
  },
  {
   "cell_type": "code",
   "execution_count": 34,
   "metadata": {},
   "outputs": [
    {
     "name": "stdout",
     "output_type": "stream",
     "text": [
      "Train on 8000 samples, validate on 2000 samples\n",
      "Epoch 1/60\n",
      "8000/8000 [==============================] - 4s 491us/step - loss: 0.0611 - val_loss: 0.0452\n",
      "Epoch 2/60\n",
      "8000/8000 [==============================] - 3s 405us/step - loss: 0.0379 - val_loss: 0.0325\n",
      "Epoch 3/60\n",
      "8000/8000 [==============================] - 3s 406us/step - loss: 0.0284 - val_loss: 0.0254\n",
      "Epoch 4/60\n",
      "8000/8000 [==============================] - 3s 407us/step - loss: 0.0228 - val_loss: 0.0210\n",
      "Epoch 5/60\n",
      "8000/8000 [==============================] - 3s 414us/step - loss: 0.0189 - val_loss: 0.0179\n",
      "Epoch 6/60\n",
      "8000/8000 [==============================] - 3s 413us/step - loss: 0.0161 - val_loss: 0.0155\n",
      "Epoch 7/60\n",
      "8000/8000 [==============================] - 3s 414us/step - loss: 0.0140 - val_loss: 0.0138\n",
      "Epoch 8/60\n",
      "8000/8000 [==============================] - 3s 410us/step - loss: 0.0124 - val_loss: 0.0124\n",
      "Epoch 9/60\n",
      "8000/8000 [==============================] - 3s 410us/step - loss: 0.0112 - val_loss: 0.0113\n",
      "Epoch 10/60\n",
      "8000/8000 [==============================] - 3s 412us/step - loss: 0.0102 - val_loss: 0.0104\n",
      "Epoch 11/60\n",
      "8000/8000 [==============================] - 3s 413us/step - loss: 0.0094 - val_loss: 0.0097\n",
      "Epoch 12/60\n",
      "8000/8000 [==============================] - 3s 430us/step - loss: 0.0086 - val_loss: 0.0091\n",
      "Epoch 13/60\n",
      "8000/8000 [==============================] - 4s 448us/step - loss: 0.0080 - val_loss: 0.0085\n",
      "Epoch 14/60\n",
      "8000/8000 [==============================] - 4s 445us/step - loss: 0.0074 - val_loss: 0.0079\n",
      "Epoch 15/60\n",
      "8000/8000 [==============================] - 3s 420us/step - loss: 0.0069 - val_loss: 0.0075\n",
      "Epoch 16/60\n",
      "8000/8000 [==============================] - 3s 431us/step - loss: 0.0064 - val_loss: 0.0071\n",
      "Epoch 17/60\n",
      "8000/8000 [==============================] - 3s 434us/step - loss: 0.0060 - val_loss: 0.0066\n",
      "Epoch 18/60\n",
      "8000/8000 [==============================] - 3s 422us/step - loss: 0.0056 - val_loss: 0.0063\n",
      "Epoch 19/60\n",
      "8000/8000 [==============================] - 3s 420us/step - loss: 0.0053 - val_loss: 0.0060\n",
      "Epoch 20/60\n",
      "8000/8000 [==============================] - 4s 458us/step - loss: 0.0050 - val_loss: 0.0057\n",
      "Epoch 21/60\n",
      "8000/8000 [==============================] - 3s 434us/step - loss: 0.0048 - val_loss: 0.0055\n",
      "Epoch 22/60\n",
      "8000/8000 [==============================] - 3s 433us/step - loss: 0.0045 - val_loss: 0.0053\n",
      "Epoch 23/60\n",
      "8000/8000 [==============================] - 4s 444us/step - loss: 0.0044 - val_loss: 0.0051\n",
      "Epoch 24/60\n",
      "8000/8000 [==============================] - 4s 447us/step - loss: 0.0042 - val_loss: 0.0050\n",
      "Epoch 25/60\n",
      "8000/8000 [==============================] - 4s 440us/step - loss: 0.0040 - val_loss: 0.0048\n",
      "Epoch 26/60\n",
      "8000/8000 [==============================] - 3s 435us/step - loss: 0.0039 - val_loss: 0.0047\n",
      "Epoch 27/60\n",
      "8000/8000 [==============================] - 3s 420us/step - loss: 0.0038 - val_loss: 0.0046\n",
      "Epoch 28/60\n",
      "8000/8000 [==============================] - 3s 422us/step - loss: 0.0037 - val_loss: 0.0045\n",
      "Epoch 29/60\n",
      "8000/8000 [==============================] - 3s 422us/step - loss: 0.0036 - val_loss: 0.0044\n",
      "Epoch 30/60\n",
      "8000/8000 [==============================] - 3s 423us/step - loss: 0.0035 - val_loss: 0.0043: 0s - \n",
      "Epoch 31/60\n",
      "8000/8000 [==============================] - 3s 424us/step - loss: 0.0034 - val_loss: 0.0043\n",
      "Epoch 32/60\n",
      "8000/8000 [==============================] - 3s 422us/step - loss: 0.0033 - val_loss: 0.0042\n",
      "Epoch 33/60\n",
      "8000/8000 [==============================] - 3s 427us/step - loss: 0.0033 - val_loss: 0.0041\n",
      "Epoch 34/60\n",
      "8000/8000 [==============================] - 3s 420us/step - loss: 0.0032 - val_loss: 0.0041\n",
      "Epoch 35/60\n",
      "8000/8000 [==============================] - 3s 428us/step - loss: 0.0031 - val_loss: 0.0040\n",
      "Epoch 36/60\n",
      "8000/8000 [==============================] - 3s 429us/step - loss: 0.0031 - val_loss: 0.0040\n",
      "Epoch 37/60\n",
      "8000/8000 [==============================] - 3s 423us/step - loss: 0.0030 - val_loss: 0.0039\n",
      "Epoch 38/60\n",
      "8000/8000 [==============================] - 3s 427us/step - loss: 0.0030 - val_loss: 0.0039\n",
      "Epoch 39/60\n",
      "8000/8000 [==============================] - 3s 422us/step - loss: 0.0030 - val_loss: 0.0039\n",
      "Epoch 40/60\n",
      "8000/8000 [==============================] - 3s 427us/step - loss: 0.0029 - val_loss: 0.0038\n",
      "Epoch 41/60\n",
      "8000/8000 [==============================] - 3s 424us/step - loss: 0.0029 - val_loss: 0.0038\n",
      "Epoch 42/60\n",
      "8000/8000 [==============================] - 3s 424us/step - loss: 0.0028 - val_loss: 0.0038\n",
      "Epoch 43/60\n",
      "8000/8000 [==============================] - 3s 424us/step - loss: 0.0028 - val_loss: 0.0037\n",
      "Epoch 44/60\n",
      "8000/8000 [==============================] - 3s 425us/step - loss: 0.0028 - val_loss: 0.0037\n",
      "Epoch 45/60\n",
      "8000/8000 [==============================] - 3s 424us/step - loss: 0.0027 - val_loss: 0.0037\n",
      "Epoch 46/60\n",
      "8000/8000 [==============================] - 3s 429us/step - loss: 0.0027 - val_loss: 0.0036\n",
      "Epoch 47/60\n",
      "8000/8000 [==============================] - 3s 429us/step - loss: 0.0027 - val_loss: 0.0036\n",
      "Epoch 48/60\n",
      "8000/8000 [==============================] - 4s 453us/step - loss: 0.0027 - val_loss: 0.0036\n",
      "Epoch 49/60\n",
      "8000/8000 [==============================] - 3s 431us/step - loss: 0.0026 - val_loss: 0.0036\n",
      "Epoch 50/60\n",
      "8000/8000 [==============================] - 3s 425us/step - loss: 0.0026 - val_loss: 0.0036\n",
      "Epoch 51/60\n",
      "8000/8000 [==============================] - 3s 435us/step - loss: 0.0026 - val_loss: 0.0036\n",
      "Epoch 52/60\n",
      "8000/8000 [==============================] - 4s 438us/step - loss: 0.0026 - val_loss: 0.0035\n",
      "Epoch 53/60\n",
      "8000/8000 [==============================] - 4s 448us/step - loss: 0.0025 - val_loss: 0.0035\n",
      "Epoch 54/60\n",
      "8000/8000 [==============================] - 4s 460us/step - loss: 0.0025 - val_loss: 0.0035\n",
      "Epoch 55/60\n",
      "8000/8000 [==============================] - 3s 436us/step - loss: 0.0025 - val_loss: 0.0035\n",
      "Epoch 56/60\n",
      "8000/8000 [==============================] - 4s 438us/step - loss: 0.0025 - val_loss: 0.0035\n",
      "Epoch 57/60\n",
      "8000/8000 [==============================] - 3s 432us/step - loss: 0.0025 - val_loss: 0.0034\n",
      "Epoch 58/60\n",
      "8000/8000 [==============================] - 4s 451us/step - loss: 0.0025 - val_loss: 0.0034\n",
      "Epoch 59/60\n",
      "8000/8000 [==============================] - 4s 440us/step - loss: 0.0024 - val_loss: 0.0034\n",
      "Epoch 60/60\n",
      "8000/8000 [==============================] - 4s 443us/step - loss: 0.0024 - val_loss: 0.0034\n"
     ]
    },
    {
     "data": {
      "text/plain": [
       "<keras.callbacks.History at 0x11c94d350>"
      ]
     },
     "execution_count": 34,
     "metadata": {},
     "output_type": "execute_result"
    }
   ],
   "source": [
    "AutoEncoder.fit(X_train, Y_train, batch_size=10, epochs=60, validation_data=[X_test, Y_test],shuffle=True)"
   ]
  },
  {
   "cell_type": "code",
   "execution_count": 42,
   "metadata": {},
   "outputs": [
    {
     "data": {
      "text/plain": [
       "<matplotlib.image.AxesImage at 0x120433bd0>"
      ]
     },
     "execution_count": 42,
     "metadata": {},
     "output_type": "execute_result"
    },
    {
     "data": {
      "image/png": "[encoded data removed]",
      "text/plain": [
       "<Figure size 432x288 with 1 Axes>"
      ]
     },
     "metadata": {},
     "output_type": "display_data"
    }
   ],
   "source": [
    "sample = X_train[1]\n",
    "plt.imshow( np.reshape( sample*255, (28,28) ), cmap = 'gray' )"
   ]
  },
  {
   "cell_type": "code",
   "execution_count": 43,
   "metadata": {},
   "outputs": [
    {
     "data": {
      "text/plain": [
       "<matplotlib.image.AxesImage at 0x12049dc50>"
      ]
     },
     "execution_count": 43,
     "metadata": {},
     "output_type": "execute_result"
    },
    {
     "data": {
      "image/png": "[encoded data removed]",
      "text/plain": [
       "<Figure size 432x288 with 1 Axes>"
      ]
     },
     "metadata": {},
     "output_type": "display_data"
    }
   ],
   "source": [
    "out = AutoEncoder.predict( np.array([sample]) )\n",
    "out = np.array( out[0]*255, dtype=np.uint8 )\n",
    "plt.imshow( np.reshape(out, (28,28) ), cmap='gray' )"
   ]
  },
  {
   "cell_type": "code",
   "execution_count": null,
   "metadata": {},
   "outputs": [],
   "source": []
  }
 ],
 "metadata": {
  "kernelspec": {
   "display_name": "Python 3",
   "language": "python",
   "name": "python3"
  },
  "language_info": {
   "codemirror_mode": {
    "name": "ipython",
    "version": 3
   },
   "file_extension": ".py",
   "mimetype": "text/x-python",
   "name": "python",
   "nbconvert_exporter": "python",
   "pygments_lexer": "ipython3",
   "version": "3.6.0"
  }
 },
 "nbformat": 4,
 "nbformat_minor": 2
}
