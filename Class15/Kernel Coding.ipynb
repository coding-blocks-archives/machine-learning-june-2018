{
 "cells": [
  {
   "cell_type": "code",
   "execution_count": 7,
   "metadata": {},
   "outputs": [],
   "source": [
    "import numpy as np\n",
    "import pandas as pd\n"
   ]
  },
  {
   "cell_type": "code",
   "execution_count": 43,
   "metadata": {},
   "outputs": [],
   "source": [
    "def KernelMultiply(K,M):\n",
    "    matrix_size  = M.shape[0]\n",
    "    kernel_size = K.shape[0]\n",
    "    new_matrix = np.zeros((matrix_size-kernel_size+1,matrix_size-kernel_size+1))\n",
    "    for ix in list(range(new_matrix.shape[0])):\n",
    "        for jx in list(range(new_matrix.shape[1])):\n",
    "            for ax in list(range(ix,ix+K.shape[0])):\n",
    "                for bx in list(range(jx,jx+K.shape[1])):\n",
    "                    new_matrix[ix][jx] += M[ax][bx]*K[ix][jx]\n",
    "                    \n",
    "    return new_matrix"
   ]
  },
  {
   "cell_type": "code",
   "execution_count": 44,
   "metadata": {},
   "outputs": [],
   "source": [
    "K= np.array(([1,1],[1,1]))\n",
    "M = np.array(([1,1,1],[1,1,1],[1,1,1]))"
   ]
  },
  {
   "cell_type": "code",
   "execution_count": 45,
   "metadata": {},
   "outputs": [],
   "source": [
    "S = KernelMultiply(K,M)"
   ]
  },
  {
   "cell_type": "code",
   "execution_count": 46,
   "metadata": {},
   "outputs": [
    {
     "name": "stdout",
     "output_type": "stream",
     "text": [
      "[[4. 4.]\n",
      " [4. 4.]]\n"
     ]
    }
   ],
   "source": [
    "print(S)"
   ]
  },
  {
   "cell_type": "code",
   "execution_count": null,
   "metadata": {},
   "outputs": [],
   "source": []
  }
 ],
 "metadata": {
  "kernelspec": {
   "display_name": "Python 3",
   "language": "python",
   "name": "python3"
  },
  "language_info": {
   "codemirror_mode": {
    "name": "ipython",
    "version": 3
   },
   "file_extension": ".py",
   "mimetype": "text/x-python",
   "name": "python",
   "nbconvert_exporter": "python",
   "pygments_lexer": "ipython3",
   "version": "3.6.0"
  }
 },
 "nbformat": 4,
 "nbformat_minor": 2
}
