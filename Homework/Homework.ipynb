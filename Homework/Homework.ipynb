{
 "cells": [
  {
   "cell_type": "code",
   "execution_count": 7,
   "metadata": {},
   "outputs": [],
   "source": [
    "import numpy as np"
   ]
  },
  {
   "cell_type": "code",
   "execution_count": 8,
   "metadata": {},
   "outputs": [],
   "source": [
    "k_width=2\n",
    "k_height=2\n",
    "\n",
    "data_width=3\n",
    "data_height=4\n",
    "\n",
    "kernel=np.random.randint(1,5,(k_width,k_height))\n",
    "data=np.random.randint(1,5,(data_width,data_height))"
   ]
  },
  {
   "cell_type": "code",
   "execution_count": 9,
   "metadata": {},
   "outputs": [
    {
     "name": "stdout",
     "output_type": "stream",
     "text": [
      "[[2 1]\n",
      " [1 1]]\n"
     ]
    }
   ],
   "source": [
    "print(kernel)"
   ]
  },
  {
   "cell_type": "code",
   "execution_count": 10,
   "metadata": {},
   "outputs": [
    {
     "name": "stdout",
     "output_type": "stream",
     "text": [
      "[[3 2 1 2]\n",
      " [1 3 1 2]\n",
      " [2 4 3 1]]\n"
     ]
    }
   ],
   "source": [
    "print(data)"
   ]
  },
  {
   "cell_type": "code",
   "execution_count": 11,
   "metadata": {},
   "outputs": [],
   "source": [
    "def kernel_mult(kernel,data):\n",
    "    final=[]\n",
    "    k_height=kernel.shape[0]\n",
    "    k_width=kernel.shape[1]\n",
    "    for i in range(data.shape[0]-k_height+1):\n",
    "        ele=[]\n",
    "        for j in range(data.shape[1]-k_width+1):\n",
    "            ele1=data[i:i+k_height,j:j+k_height]\n",
    "            prod=ele1*kernel\n",
    "            ele.append(prod.sum())\n",
    "        final.append(ele)\n",
    "    return final"
   ]
  },
  {
   "cell_type": "code",
   "execution_count": 12,
   "metadata": {},
   "outputs": [
    {
     "data": {
      "text/plain": [
       "[[12, 9, 7], [11, 14, 8]]"
      ]
     },
     "execution_count": 12,
     "metadata": {},
     "output_type": "execute_result"
    }
   ],
   "source": [
    "kernel_mult(kernel,data)"
   ]
  }
 ],
 "metadata": {
  "kernelspec": {
   "display_name": "Python 3",
   "language": "python",
   "name": "python3"
  },
  "language_info": {
   "codemirror_mode": {
    "name": "ipython",
    "version": 3
   },
   "file_extension": ".py",
   "mimetype": "text/x-python",
   "name": "python",
   "nbconvert_exporter": "python",
   "pygments_lexer": "ipython3",
   "version": "3.6.5"
  }
 },
 "nbformat": 4,
 "nbformat_minor": 2
}
