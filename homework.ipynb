{
 "cells": [
  {
   "cell_type": "code",
   "execution_count": 3,
   "metadata": {},
   "outputs": [],
   "source": [
    "import numpy as np"
   ]
  },
  {
   "cell_type": "code",
   "execution_count": 21,
   "metadata": {},
   "outputs": [],
   "source": [
    "def rolling_window(big, small):\n",
    "    r, c=0, 0\n",
    "    new=np.zeros((big.shape[0]-small.shape[0]+1,big.shape[0]-small.shape[0]+1),dtype=int)\n",
    "    print new.shape[0]\n",
    "    for i in range(new.shape[0]):\n",
    "        temp=0\n",
    "        for j in range(new.shape[1]):\n",
    "            window=big[r:r+new.shape[0],c:c+new.shape[1]]\n",
    "            temp=np.sum(small*window)\n",
    "            new[i][j]=temp\n",
    "            c+=1 \n",
    "        r+=1 \n",
    "        c=0\n",
    "    return new"
   ]
  },
  {
   "cell_type": "code",
   "execution_count": 22,
   "metadata": {},
   "outputs": [
    {
     "name": "stdout",
     "output_type": "stream",
     "text": [
      "[[7 8 5]\n",
      " [5 3 6]\n",
      " [1 8 2]]\n",
      "[[2 9]\n",
      " [9 5]]\n",
      "2\n"
     ]
    },
    {
     "data": {
      "text/plain": [
       "array([[146, 118],\n",
       "       [ 86, 142]])"
      ]
     },
     "execution_count": 22,
     "metadata": {},
     "output_type": "execute_result"
    }
   ],
   "source": [
    "big=np.random.randint(10,size=(3,3))\n",
    "small=np.random.randint(10,size=(2,2))\n",
    "print big\n",
    "print small\n",
    "rolling_window(big,small)"
   ]
  },
  {
   "cell_type": "code",
   "execution_count": null,
   "metadata": {},
   "outputs": [],
   "source": []
  },
  {
   "cell_type": "code",
   "execution_count": null,
   "metadata": {},
   "outputs": [],
   "source": []
  }
 ],
 "metadata": {
  "kernelspec": {
   "display_name": "Python 2",
   "language": "python",
   "name": "python2"
  },
  "language_info": {
   "codemirror_mode": {
    "name": "ipython",
    "version": 2
   },
   "file_extension": ".py",
   "mimetype": "text/x-python",
   "name": "python",
   "nbconvert_exporter": "python",
   "pygments_lexer": "ipython2",
   "version": "2.7.15rc1"
  }
 },
 "nbformat": 4,
 "nbformat_minor": 2
}
