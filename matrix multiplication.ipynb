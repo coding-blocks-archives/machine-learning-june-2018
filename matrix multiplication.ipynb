{
 "cells": [
  {
   "cell_type": "markdown",
   "metadata": {},
   "source": [
    "*NORMAL Multiplication*"
   ]
  },
  {
   "cell_type": "code",
   "execution_count": null,
   "metadata": {},
   "outputs": [],
   "source": [
    "A = [[12, 7, 3],[4, 5, 6],[7, 8, 9]]"
   ]
  },
  {
   "cell_type": "code",
   "execution_count": 2,
   "metadata": {},
   "outputs": [],
   "source": [
    "B = [[5, 8, 1, 2],[6, 7, 3, 0],[4, 5, 9, 1]]\n",
    "     "
   ]
  },
  {
   "cell_type": "code",
   "execution_count": 3,
   "metadata": {},
   "outputs": [],
   "source": [
    "result = [[0, 0, 0, 0],[0, 0, 0, 0],[0, 0, 0, 0]]"
   ]
  },
  {
   "cell_type": "code",
   "execution_count": 12,
   "metadata": {},
   "outputs": [],
   "source": [
    "def matrixmul(A,B):\n",
    "    for i in range(len(A)):\n",
    " \n",
    "    \n",
    "        for j in range(len(B[0])):\n",
    "            for k in range(len(B)):\n",
    "                result[i][j] += A[i][k] * B[k][j]\n",
    " \n",
    "    for C in result:\n",
    "        print(C)\n",
    "    \n"
   ]
  },
  {
   "cell_type": "code",
   "execution_count": 14,
   "metadata": {},
   "outputs": [
    {
     "name": "stdout",
     "output_type": "stream",
     "text": [
      "[342, 480, 180, 81]\n",
      "[222, 291, 219, 42]\n",
      "[357, 471, 336, 69]\n"
     ]
    }
   ],
   "source": [
    "matrixmul(A,B)"
   ]
  },
  {
   "cell_type": "markdown",
   "metadata": {},
   "source": [
    "**MATRIX MULTIPLICATION USING KERNEL LEVEL MULTIPLICATION **"
   ]
  },
  {
   "cell_type": "code",
   "execution_count": 1,
   "metadata": {},
   "outputs": [],
   "source": [
    "import numpy as np\n",
    "import pandas as pd"
   ]
  },
  {
   "cell_type": "code",
   "execution_count": 8,
   "metadata": {},
   "outputs": [],
   "source": [
    "def MatrixMul(S,B):\n",
    "   \n",
    "    k_size = S.shape[0]\n",
    "    mat_size  = B.shape[0]\n",
    "    new_mat = np.zeros((mat_size-k_size+1,mat_size-k_size+1))\n",
    "    \n",
    "    for ix in list(range(new_mat.shape[0])):\n",
    "        for jx in list(range(new_mat.shape[1])):\n",
    "            for kx in list(range(ix,ix+S.shape[0])):\n",
    "                for lx in list(range(jx,jx+S.shape[1])):\n",
    "                    new_mat[ix][jx] += B[kx][lx]*S[ix][jx]\n",
    "                    \n",
    "    return new_mat"
   ]
  },
  {
   "cell_type": "code",
   "execution_count": 9,
   "metadata": {},
   "outputs": [],
   "source": [
    "Small= np.array(([2,3],[4,5]))\n",
    "Big = np.array(([1,2,3],[3,2,1],[1,1,1]))"
   ]
  },
  {
   "cell_type": "code",
   "execution_count": 10,
   "metadata": {},
   "outputs": [
    {
     "name": "stdout",
     "output_type": "stream",
     "text": [
      "[[16. 24.]\n",
      " [28. 25.]]\n"
     ]
    }
   ],
   "source": [
    "S = MatrixMul(Small,Big)\n",
    "print(S)"
   ]
  },
  {
   "cell_type": "code",
   "execution_count": null,
   "metadata": {},
   "outputs": [],
   "source": []
  }
 ],
 "metadata": {
  "kernelspec": {
   "display_name": "Python 3",
   "language": "python",
   "name": "python3"
  },
  "language_info": {
   "codemirror_mode": {
    "name": "ipython",
    "version": 3
   },
   "file_extension": ".py",
   "mimetype": "text/x-python",
   "name": "python",
   "nbconvert_exporter": "python",
   "pygments_lexer": "ipython3",
   "version": "3.6.5"
  }
 },
 "nbformat": 4,
 "nbformat_minor": 2
}
