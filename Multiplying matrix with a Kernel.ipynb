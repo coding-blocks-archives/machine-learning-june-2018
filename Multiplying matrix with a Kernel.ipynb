{
 "cells": [
  {
   "cell_type": "code",
   "execution_count": 10,
   "metadata": {},
   "outputs": [],
   "source": [
    "import numpy as np\n",
    "import sys\n",
    "sys.setrecursionlimit(4000)"
   ]
  },
  {
   "cell_type": "code",
   "execution_count": 13,
   "metadata": {},
   "outputs": [],
   "source": [
    "def Multiply_Matrix(matrix,Kernel,sizeofmatrix,sizeofKernel,i,j,multiplied):\n",
    "    multiply=0\n",
    "    ki=0\n",
    "    if j+sizeofKernel==sizeofmatrix+1:\n",
    "        Multiply_Matrix(matrix,Kernel,sizeofmatrix,sizeofKernel,i+1,0,multiplied)\n",
    "    if j+sizeofKernel==sizeofmatrix+1 and i+sizeofKernel==sizeofmatrix+1:\n",
    "        return\n",
    "    if j+sizeofKernel>sizeofmatrix+1:\n",
    "        return\n",
    "    if i+sizeofKernel>sizeofmatrix+1:\n",
    "        return\n",
    "    for row in range(sizeofKernel):\n",
    "        kj=0\n",
    "        for col in range(sizeofKernel):\n",
    "            multiply += matrix[row][col]*Kernel[ki][kj]\n",
    "            kj+=1\n",
    "        ki+=1\n",
    "    multiplied[i][j].add(multiply)\n",
    "    Multiply_Matrix(matrix,Kernel,sizeofmatrix,sizeofKernel,i,j+1,multiplied)"
   ]
  },
  {
   "cell_type": "code",
   "execution_count": 14,
   "metadata": {},
   "outputs": [],
   "source": [
    "def Input(matrix,sizeofMatrix):\n",
    "    for i in range(sizeofMatrix):\n",
    "        for j in range(sizeofMatrix):\n",
    "            matrix[i][j]=int(input())\n",
    "    return matrix        "
   ]
  },
  {
   "cell_type": "code",
   "execution_count": 15,
   "metadata": {},
   "outputs": [],
   "source": [
    "def Output(matrix,sizeofMatrix):\n",
    "    for i in range(sizeofMatrix):\n",
    "        for j in range(sizeofMatrix):\n",
    "            print(matrix[i][j])"
   ]
  },
  {
   "cell_type": "code",
   "execution_count": 16,
   "metadata": {},
   "outputs": [
    {
     "name": "stdout",
     "output_type": "stream",
     "text": [
      "Enter the Size of Matrix3\n",
      "Enter the Size of Kernel2\n",
      "0\n",
      "0\n",
      "0\n",
      "0\n",
      "0\n",
      "0\n",
      "0\n",
      "0\n",
      "0\n",
      "0\n",
      "0\n",
      "0\n",
      "0\n",
      "[2 2]\n"
     ]
    },
    {
     "ename": "IndexError",
     "evalue": "invalid index to scalar variable.",
     "output_type": "error",
     "traceback": [
      "\u001b[0;31m---------------------------------------------------------------------------\u001b[0m",
      "\u001b[0;31mIndexError\u001b[0m                                Traceback (most recent call last)",
      "\u001b[0;32m<ipython-input-16-d108b5b20b9a>\u001b[0m in \u001b[0;36m<module>\u001b[0;34m()\u001b[0m\n\u001b[1;32m     11\u001b[0m \u001b[0mmultiplied\u001b[0m \u001b[0;34m=\u001b[0m \u001b[0mnp\u001b[0m\u001b[0;34m.\u001b[0m\u001b[0marray\u001b[0m\u001b[0;34m(\u001b[0m\u001b[0;34m(\u001b[0m\u001b[0msizeofKernel\u001b[0m\u001b[0;34m,\u001b[0m\u001b[0msizeofKernel\u001b[0m\u001b[0;34m)\u001b[0m\u001b[0;34m)\u001b[0m\u001b[0;34m\u001b[0m\u001b[0m\n\u001b[1;32m     12\u001b[0m \u001b[0mprint\u001b[0m\u001b[0;34m(\u001b[0m\u001b[0mmultiplied\u001b[0m\u001b[0;34m)\u001b[0m\u001b[0;34m\u001b[0m\u001b[0m\n\u001b[0;32m---> 13\u001b[0;31m \u001b[0mmultiplied\u001b[0m\u001b[0;34m=\u001b[0m\u001b[0mMultiply_Matrix\u001b[0m\u001b[0;34m(\u001b[0m\u001b[0mmatrix\u001b[0m\u001b[0;34m,\u001b[0m\u001b[0mKernel\u001b[0m\u001b[0;34m,\u001b[0m\u001b[0msizeofMatrix\u001b[0m\u001b[0;34m,\u001b[0m\u001b[0msizeofKernel\u001b[0m\u001b[0;34m,\u001b[0m\u001b[0;36m0\u001b[0m\u001b[0;34m,\u001b[0m\u001b[0;36m0\u001b[0m\u001b[0;34m,\u001b[0m\u001b[0mmultiplied\u001b[0m\u001b[0;34m)\u001b[0m\u001b[0;34m\u001b[0m\u001b[0m\n\u001b[0m\u001b[1;32m     14\u001b[0m \u001b[0mOutput\u001b[0m\u001b[0;34m(\u001b[0m\u001b[0mmultiplied\u001b[0m\u001b[0;34m,\u001b[0m\u001b[0msizeofMatrix\u001b[0m\u001b[0;34m-\u001b[0m\u001b[0;36m1\u001b[0m\u001b[0;34m)\u001b[0m\u001b[0;34m\u001b[0m\u001b[0m\n",
      "\u001b[0;32m<ipython-input-13-478290529045>\u001b[0m in \u001b[0;36mMultiply_Matrix\u001b[0;34m(matrix, Kernel, sizeofmatrix, sizeofKernel, i, j, multiplied)\u001b[0m\n\u001b[1;32m     16\u001b[0m             \u001b[0mkj\u001b[0m\u001b[0;34m+=\u001b[0m\u001b[0;36m1\u001b[0m\u001b[0;34m\u001b[0m\u001b[0m\n\u001b[1;32m     17\u001b[0m         \u001b[0mki\u001b[0m\u001b[0;34m+=\u001b[0m\u001b[0;36m1\u001b[0m\u001b[0;34m\u001b[0m\u001b[0m\n\u001b[0;32m---> 18\u001b[0;31m     \u001b[0mmultiplied\u001b[0m\u001b[0;34m[\u001b[0m\u001b[0mi\u001b[0m\u001b[0;34m]\u001b[0m\u001b[0;34m[\u001b[0m\u001b[0mj\u001b[0m\u001b[0;34m]\u001b[0m\u001b[0;34m.\u001b[0m\u001b[0madd\u001b[0m\u001b[0;34m(\u001b[0m\u001b[0mmultiply\u001b[0m\u001b[0;34m)\u001b[0m\u001b[0;34m\u001b[0m\u001b[0m\n\u001b[0m\u001b[1;32m     19\u001b[0m     \u001b[0mMultiply_Matrix\u001b[0m\u001b[0;34m(\u001b[0m\u001b[0mmatrix\u001b[0m\u001b[0;34m,\u001b[0m\u001b[0mKernel\u001b[0m\u001b[0;34m,\u001b[0m\u001b[0msizeofmatrix\u001b[0m\u001b[0;34m,\u001b[0m\u001b[0msizeofKernel\u001b[0m\u001b[0;34m,\u001b[0m\u001b[0mi\u001b[0m\u001b[0;34m,\u001b[0m\u001b[0mj\u001b[0m\u001b[0;34m+\u001b[0m\u001b[0;36m1\u001b[0m\u001b[0;34m,\u001b[0m\u001b[0mmultiplied\u001b[0m\u001b[0;34m)\u001b[0m\u001b[0;34m\u001b[0m\u001b[0m\n",
      "\u001b[0;31mIndexError\u001b[0m: invalid index to scalar variable."
     ]
    }
   ],
   "source": [
    "sizeofMatrix=int(input(\"Enter the Size of Matrix\"))\n",
    "sizeofKernel=int(input(\"Enter the Size of Kernel\"))\n",
    "matrix = [[0 for x in range(sizeofMatrix)] for y in range(sizeofMatrix)] \n",
    "Kernel = [[0 for x in range(sizeofKernel)] for y in range(sizeofKernel)] \n",
    "for i in range(sizeofMatrix):\n",
    "        for j in range(sizeofMatrix):\n",
    "            matrix[i][j]=int(input())\n",
    "for i in range(sizeofKernel):\n",
    "        for j in range(sizeofKernel):\n",
    "            Kernel[i][j]=int(input())\n",
    "multiplied = np.array((sizeofKernel,sizeofKernel))\n",
    "print(multiplied)\n",
    "multiplied=Multiply_Matrix(matrix,Kernel,sizeofMatrix,sizeofKernel,0,0,multiplied)\n",
    "Output(multiplied,sizeofMatrix-1)"
   ]
  },
  {
   "cell_type": "code",
   "execution_count": null,
   "metadata": {},
   "outputs": [],
   "source": []
  },
  {
   "cell_type": "code",
   "execution_count": null,
   "metadata": {},
   "outputs": [],
   "source": []
  }
 ],
 "metadata": {
  "kernelspec": {
   "display_name": "Python 3",
   "language": "python",
   "name": "python3"
  },
  "language_info": {
   "codemirror_mode": {
    "name": "ipython",
    "version": 3
   },
   "file_extension": ".py",
   "mimetype": "text/x-python",
   "name": "python",
   "nbconvert_exporter": "python",
   "pygments_lexer": "ipython3",
   "version": "3.6.5"
  }
 },
 "nbformat": 4,
 "nbformat_minor": 2
}
