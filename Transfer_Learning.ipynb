{
  "nbformat": 4,
  "nbformat_minor": 0,
  "metadata": {
    "colab": {
      "name": "Transfer_Learning.ipynb",
      "version": "0.3.2",
      "provenance": [],
      "collapsed_sections": [],
      "include_colab_link": true
    },
    "kernelspec": {
      "name": "python2",
      "display_name": "Python 2"
    },
    "accelerator": "GPU"
  },
  "cells": [
    {
      "cell_type": "markdown",
      "metadata": {
        "id": "view-in-github",
        "colab_type": "text"
      },
      "source": [
        "[View in Colaboratory](https://colab.research.google.com/github/Harsha2075/machine-learning-june-2018/blob/master/Transfer_Learning.ipynb)"
      ]
    },
    {
      "metadata": {
        "id": "goMNLQZcfppH",
        "colab_type": "code",
        "colab": {
          "base_uri": "https://localhost:8080/",
          "height": 37
        },
        "outputId": "580e196c-19e5-456f-b8ec-e991f98f917c"
      },
      "cell_type": "code",
      "source": [
        "import numpy as np\n",
        "from PIL import Image\n",
        "import os\n",
        "from sklearn.utils import shuffle\n",
        "from sklearn.model_selection import train_test_split\n",
        "from keras.applications.resnet50 import ResNet50, preprocess_input\n",
        "from keras.layers import Dense, Activation, Flatten, Dropout\n",
        "from keras.models import Sequential\n",
        "from keras.utils import np_utils"
      ],
      "execution_count": 35,
      "outputs": []
    },
    {
      "metadata": {
        "id": "O0gm5pcRhXFM",
        "colab_type": "text"
      },
      "cell_type": "markdown",
      "source": [
        "## List Hardware"
      ]
    },
    {
      "metadata": {
        "id": "A7dduE4ggqfk",
        "colab_type": "code",
        "colab": {
          "base_uri": "https://localhost:8080/",
          "height": 272
        },
        "outputId": "0fca415f-dd91-4d13-be11-d3451d50130d"
      },
      "cell_type": "code",
      "source": [
        "from tensorflow.python.client import device_lib\n",
        "device_lib.list_local_devices()"
      ],
      "execution_count": 8,
      "outputs": [
        {
          "output_type": "execute_result",
          "data": {
            "text/plain": [
              "[name: \"/device:CPU:0\"\n",
              " device_type: \"CPU\"\n",
              " memory_limit: 268435456\n",
              " locality {\n",
              " }\n",
              " incarnation: 7572813978120951194, name: \"/device:GPU:0\"\n",
              " device_type: \"GPU\"\n",
              " memory_limit: 11285974221\n",
              " locality {\n",
              "   bus_id: 1\n",
              "   links {\n",
              "   }\n",
              " }\n",
              " incarnation: 12254525737408764181\n",
              " physical_device_desc: \"device: 0, name: Tesla K80, pci bus id: 0000:00:04.0, compute capability: 3.7\"]"
            ]
          },
          "metadata": {
            "tags": []
          },
          "execution_count": 8
        }
      ]
    },
    {
      "metadata": {
        "id": "Ok4ZZzMSh0LN",
        "colab_type": "text"
      },
      "cell_type": "markdown",
      "source": [
        "## Import Dataset"
      ]
    },
    {
      "metadata": {
        "id": "EVtAIyhYh1WP",
        "colab_type": "code",
        "colab": {
          "base_uri": "https://localhost:8080/",
          "height": 204
        },
        "outputId": "0aa8469b-f4e7-499a-b62e-ab6d93b69109"
      },
      "cell_type": "code",
      "source": [
        "!wget https://pjreddie.com/media/files/mnist_train.csv"
      ],
      "execution_count": 9,
      "outputs": [
        {
          "output_type": "stream",
          "text": [
            "--2018-07-07 11:37:28--  https://pjreddie.com/media/files/mnist_train.csv\n",
            "Resolving pjreddie.com (pjreddie.com)... 128.208.3.39\n",
            "Connecting to pjreddie.com (pjreddie.com)|128.208.3.39|:443... connected.\n",
            "HTTP request sent, awaiting response... 200 OK\n",
            "Length: 109575994 (104M) [application/octet-stream]\n",
            "Saving to: ‘mnist_train.csv’\n",
            "\n",
            "mnist_train.csv     100%[===================>] 104.50M   105MB/s    in 1.0s    \n",
            "\n",
            "2018-07-07 11:37:30 (105 MB/s) - ‘mnist_train.csv’ saved [109575994/109575994]\n",
            "\n"
          ],
          "name": "stdout"
        }
      ]
    },
    {
      "metadata": {
        "id": "IT4Xsyf7iE0d",
        "colab_type": "code",
        "colab": {
          "base_uri": "https://localhost:8080/",
          "height": 35
        },
        "outputId": "eaf41d16-bc1a-4fd5-846d-1f73ca480952"
      },
      "cell_type": "code",
      "source": [
        "from google.colab import files\n",
        "\n",
        "uploaded = files.upload()\n",
        "\n",
        "for fn in uploaded.keys():\n",
        "  print('User uploaded file \"{name}\" with length {length} bytes'.format(\n",
        "      name=fn, length=len(uploaded[fn])))"
      ],
      "execution_count": 10,
      "outputs": [
        {
          "output_type": "display_data",
          "data": {
            "text/plain": [
              "<IPython.core.display.HTML object>"
            ],
            "text/html": [
              "\n",
              "     <input type=\"file\" id=\"files-be8db89e-4df1-4e82-a151-d054c1c61684\" name=\"files[]\" multiple disabled />\n",
              "     <output id=\"result-be8db89e-4df1-4e82-a151-d054c1c61684\">\n",
              "      Upload widget is only available when the cell has been executed in the\n",
              "      current browser session. Please rerun this cell to enable.\n",
              "      </output>\n",
              "      <script src=\"/nbextensions/google.colab/files.js\"></script> "
            ]
          },
          "metadata": {
            "tags": []
          }
        }
      ]
    },
    {
      "metadata": {
        "id": "9SIoZGQtiaEF",
        "colab_type": "code",
        "colab": {
          "base_uri": "https://localhost:8080/",
          "height": 105
        },
        "outputId": "0af287b8-7317-4ee6-c4c5-396c1a52cf32"
      },
      "cell_type": "code",
      "source": [
        "!apt-get install -y -qq software-properties-common python-software-properties module-init-tools\n",
        "!add-apt-repository -y ppa:alessandro-strada/ppa 2>&1 > /dev/null\n",
        "!apt-get update -qq 2>&1 > /dev/null\n",
        "!apt-get -y install -qq google-drive-ocamlfuse fuse\n",
        "from google.colab import auth\n",
        "auth.authenticate_user()\n",
        "from oauth2client.client import GoogleCredentials\n",
        "creds = GoogleCredentials.get_application_default()\n",
        "import getpass\n",
        "!google-drive-ocamlfuse -headless -id={creds.client_id} -secret={creds.client_secret} < /dev/null 2>&1 | grep URL\n",
        "vcode = getpass.getpass()\n",
        "!echo {vcode} | google-drive-ocamlfuse -headless -id={creds.client_id} -secret={creds.client_secret}\n",
        "!mkdir -p drive\n",
        "!google-drive-ocamlfuse drive"
      ],
      "execution_count": 11,
      "outputs": [
        {
          "output_type": "stream",
          "text": [
            "Please, open the following URL in a web browser: https://accounts.google.com/o/oauth2/auth?client_id=32555940559.apps.googleusercontent.com&redirect_uri=urn%3Aietf%3Awg%3Aoauth%3A2.0%3Aoob&scope=https%3A%2F%2Fwww.googleapis.com%2Fauth%2Fdrive&response_type=code&access_type=offline&approval_prompt=force\r\n",
            "··········\n",
            "Please, open the following URL in a web browser: https://accounts.google.com/o/oauth2/auth?client_id=32555940559.apps.googleusercontent.com&redirect_uri=urn%3Aietf%3Awg%3Aoauth%3A2.0%3Aoob&scope=https%3A%2F%2Fwww.googleapis.com%2Fauth%2Fdrive&response_type=code&access_type=offline&approval_prompt=force\n",
            "Please enter the verification code: Access token retrieved correctly.\n"
          ],
          "name": "stdout"
        }
      ]
    },
    {
      "metadata": {
        "id": "Xy_fJ6fgiuuX",
        "colab_type": "code",
        "colab": {}
      },
      "cell_type": "code",
      "source": [
        "!unzip ./drive/data_set.zip"
      ],
      "execution_count": 0,
      "outputs": []
    },
    {
      "metadata": {
        "id": "jqJQQM_sivVU",
        "colab_type": "code",
        "colab": {
          "base_uri": "https://localhost:8080/",
          "height": 34
        },
        "outputId": "5277d56c-5e4c-4ba1-e341-ea3fc381bd1b"
      },
      "cell_type": "code",
      "source": [
        "!ls data_set"
      ],
      "execution_count": 15,
      "outputs": [
        {
          "output_type": "stream",
          "text": [
            "cats  dogs  horses  Humans\r\n"
          ],
          "name": "stdout"
        }
      ]
    },
    {
      "metadata": {
        "id": "Xhi1_7MUjOnu",
        "colab_type": "code",
        "colab": {
          "base_uri": "https://localhost:8080/",
          "height": 37
        },
        "outputId": "4764e274-3347-4709-fe54-ffa1411fdeab"
      },
      "cell_type": "code",
      "source": [
        "dict_labels = {\n",
        "    'cats': 0,\n",
        "    'dogs': 1,\n",
        "    'horses': 2,\n",
        "    'Humans': 3\n",
        "}\n",
        "path = './data_set/'"
      ],
      "execution_count": 18,
      "outputs": []
    },
    {
      "metadata": {
        "id": "qtdEgUyQj1Gz",
        "colab_type": "code",
        "colab": {
          "base_uri": "https://localhost:8080/",
          "height": 34
        },
        "outputId": "2550d43a-b055-4f4c-d381-3ca771c8b8f6"
      },
      "cell_type": "code",
      "source": [
        "x_ , y_ = [], []\n",
        "classes = os.listdir( path )\n",
        "for img_folder in classes:\n",
        "  img_path = path + img_folder\n",
        "  images = os.listdir( img_path )\n",
        "  for img in images:\n",
        "    x = Image.open( img_path + '/' + img )\n",
        "    x = x.resize( (224,224) )\n",
        "     \n",
        "    x = np.array( x, dtype = np.float32 )\n",
        "    x = x/255.0\n",
        "    \n",
        "    x_.append( x )\n",
        "    y_.append( dict_labels[img_folder] )\n",
        "\n",
        "X = np.array(x_)\n",
        "Y = np.array(y_)\n",
        "print X.shape, Y.shape"
      ],
      "execution_count": 29,
      "outputs": [
        {
          "output_type": "stream",
          "text": [
            "(808, 224, 224, 3) (808,)\n"
          ],
          "name": "stdout"
        }
      ]
    },
    {
      "metadata": {
        "id": "eZnlKqpLns14",
        "colab_type": "code",
        "colab": {
          "base_uri": "https://localhost:8080/",
          "height": 37
        },
        "outputId": "f224ff43-8071-4092-bd16-74ca8bded3a8"
      },
      "cell_type": "code",
      "source": [
        "X = preprocess_input(X)"
      ],
      "execution_count": 30,
      "outputs": []
    },
    {
      "metadata": {
        "id": "qUK6KFQ4lVNb",
        "colab_type": "code",
        "colab": {
          "base_uri": "https://localhost:8080/",
          "height": 34
        },
        "outputId": "7348e99c-25cb-4365-a390-bc3546c6013d"
      },
      "cell_type": "code",
      "source": [
        "Y = np_utils.to_categorical(Y)\n",
        "print Y.shape"
      ],
      "execution_count": 31,
      "outputs": [
        {
          "output_type": "stream",
          "text": [
            "(808, 4)\n"
          ],
          "name": "stdout"
        }
      ]
    },
    {
      "metadata": {
        "id": "jPJNdk8KmDyT",
        "colab_type": "code",
        "colab": {
          "base_uri": "https://localhost:8080/",
          "height": 37
        },
        "outputId": "e6ae1545-018f-424f-b651-f9e5fc4668bd"
      },
      "cell_type": "code",
      "source": [
        "X, Y = shuffle( X, Y )"
      ],
      "execution_count": 33,
      "outputs": []
    },
    {
      "metadata": {
        "id": "P8JemN9QmLFj",
        "colab_type": "code",
        "colab": {
          "base_uri": "https://localhost:8080/",
          "height": 34
        },
        "outputId": "a8491f37-6405-4300-8f52-506eae26efd2"
      },
      "cell_type": "code",
      "source": [
        "X_train, X_test, Y_train, Y_test = train_test_split( X, Y, test_size = 0.2 )\n",
        "print X_train.shape, Y_train.shape"
      ],
      "execution_count": 34,
      "outputs": [
        {
          "output_type": "stream",
          "text": [
            "(646, 224, 224, 3) (646, 4)\n"
          ],
          "name": "stdout"
        }
      ]
    },
    {
      "metadata": {
        "id": "unufctsamTey",
        "colab_type": "code",
        "colab": {
          "base_uri": "https://localhost:8080/",
          "height": 88
        },
        "outputId": "2e535556-21e5-48f6-844b-a65e0889e427"
      },
      "cell_type": "code",
      "source": [
        "resnet_model = ResNet50( input_shape = (224,224,3) , include_top = False, weights = 'imagenet' )"
      ],
      "execution_count": 24,
      "outputs": [
        {
          "output_type": "stream",
          "text": [
            "Downloading data from https://github.com/fchollet/deep-learning-models/releases/download/v0.2/resnet50_weights_tf_dim_ordering_tf_kernels_notop.h5\n",
            "94658560/94653016 [==============================] - 4s 0us/step\n",
            "94666752/94653016 [==============================] - 4s 0us/step\n"
          ],
          "name": "stdout"
        }
      ]
    },
    {
      "metadata": {
        "id": "GnjPfFYMmnTR",
        "colab_type": "code",
        "colab": {
          "base_uri": "https://localhost:8080/",
          "height": 17
        },
        "outputId": "f494977f-2481-4bfd-a738-51c5e3d5c959"
      },
      "cell_type": "code",
      "source": [
        "for ix in resnet_model.layers:\n",
        "  ix.trainable = False"
      ],
      "execution_count": 26,
      "outputs": []
    },
    {
      "metadata": {
        "id": "E_UOBWzam1sc",
        "colab_type": "code",
        "colab": {
          "base_uri": "https://localhost:8080/",
          "height": 272
        },
        "outputId": "fa410c5d-a816-4e33-af9c-1b672e00b400"
      },
      "cell_type": "code",
      "source": [
        "fc_layers = Sequential()\n",
        "fc_layers.add( Flatten( input_shape = resnet_model.layers[-1].output_shape[1:] ) )\n",
        "fc_layers.add( Dense(128, activation = 'relu') )\n",
        "fc_layers.add( Dropout(0.4) )\n",
        "fc_layers.add( Dense(4, activation = 'softmax') )\n",
        "fc_layers.summary()"
      ],
      "execution_count": 37,
      "outputs": [
        {
          "output_type": "stream",
          "text": [
            "_________________________________________________________________\n",
            "Layer (type)                 Output Shape              Param #   \n",
            "=================================================================\n",
            "flatten_1 (Flatten)          (None, 2048)              0         \n",
            "_________________________________________________________________\n",
            "dense_1 (Dense)              (None, 128)               262272    \n",
            "_________________________________________________________________\n",
            "dropout_1 (Dropout)          (None, 128)               0         \n",
            "_________________________________________________________________\n",
            "dense_2 (Dense)              (None, 4)                 516       \n",
            "=================================================================\n",
            "Total params: 262,788\n",
            "Trainable params: 262,788\n",
            "Non-trainable params: 0\n",
            "_________________________________________________________________\n"
          ],
          "name": "stdout"
        }
      ]
    },
    {
      "metadata": {
        "id": "hL9xDqI8nBzM",
        "colab_type": "code",
        "colab": {
          "base_uri": "https://localhost:8080/",
          "height": 204
        },
        "outputId": "97b3dd92-ad59-48a4-967e-b48f826e3b6d"
      },
      "cell_type": "code",
      "source": [
        "final_model = Sequential( [ resnet_model, fc_layers ] )\n",
        "final_model.summary()"
      ],
      "execution_count": 38,
      "outputs": [
        {
          "output_type": "stream",
          "text": [
            "_________________________________________________________________\n",
            "Layer (type)                 Output Shape              Param #   \n",
            "=================================================================\n",
            "resnet50 (Model)             (None, 1, 1, 2048)        23587712  \n",
            "_________________________________________________________________\n",
            "sequential_2 (Sequential)    (None, 4)                 262788    \n",
            "=================================================================\n",
            "Total params: 23,850,500\n",
            "Trainable params: 262,788\n",
            "Non-trainable params: 23,587,712\n",
            "_________________________________________________________________\n"
          ],
          "name": "stdout"
        }
      ]
    },
    {
      "metadata": {
        "id": "VT7D39n0o7Mv",
        "colab_type": "code",
        "colab": {
          "base_uri": "https://localhost:8080/",
          "height": 37
        },
        "outputId": "5a3b8db7-6948-432e-eecf-a01f9ce2bf0f"
      },
      "cell_type": "code",
      "source": [
        "final_model.compile( optimizer = 'adam', loss = 'categorical_crossentropy', metrics = ['accuracy'] )"
      ],
      "execution_count": 39,
      "outputs": []
    },
    {
      "metadata": {
        "id": "RDONkfnhpanK",
        "colab_type": "code",
        "colab": {
          "base_uri": "https://localhost:8080/",
          "height": 241
        },
        "outputId": "087c2db2-5eb8-4da7-f1e5-824c0e80da15"
      },
      "cell_type": "code",
      "source": [
        "final_model.fit( X_train, Y_train, batch_size = 16, epochs = 5, validation_data = [X_test, Y_test], shuffle = True) "
      ],
      "execution_count": 41,
      "outputs": [
        {
          "output_type": "stream",
          "text": [
            "Train on 646 samples, validate on 162 samples\n",
            "Epoch 1/5\n",
            "646/646 [==============================] - 12s 19ms/step - loss: 0.9321 - acc: 0.6316 - val_loss: 1.4574 - val_acc: 0.2778\n",
            "Epoch 2/5\n",
            "646/646 [==============================] - 8s 12ms/step - loss: 0.4365 - acc: 0.8282 - val_loss: 1.4959 - val_acc: 0.2778\n",
            "Epoch 3/5\n",
            "646/646 [==============================] - 8s 12ms/step - loss: 0.3435 - acc: 0.8669 - val_loss: 1.4877 - val_acc: 0.2778\n",
            "Epoch 4/5\n",
            "646/646 [==============================] - 8s 12ms/step - loss: 0.2835 - acc: 0.8870 - val_loss: 1.4689 - val_acc: 0.2778\n",
            "Epoch 5/5\n",
            "646/646 [==============================] - 8s 12ms/step - loss: 0.2376 - acc: 0.9118 - val_loss: 1.4742 - val_acc: 0.2160\n"
          ],
          "name": "stdout"
        },
        {
          "output_type": "execute_result",
          "data": {
            "text/plain": [
              "<keras.callbacks.History at 0x7f23242f3490>"
            ]
          },
          "metadata": {
            "tags": []
          },
          "execution_count": 41
        }
      ]
    },
    {
      "metadata": {
        "id": "GVVYcfahplF-",
        "colab_type": "code",
        "colab": {}
      },
      "cell_type": "code",
      "source": [
        ""
      ],
      "execution_count": 0,
      "outputs": []
    }
  ]
}