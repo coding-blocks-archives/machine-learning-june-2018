{
 "cells": [
  {
   "cell_type": "code",
   "execution_count": 124,
   "metadata": {},
   "outputs": [],
   "source": [
    "import numpy as np"
   ]
  },
  {
   "cell_type": "code",
   "execution_count": 125,
   "metadata": {},
   "outputs": [],
   "source": [
    "def mul(big_m, small_m):\n",
    "    r=c= big_m.shape[0] - small_m.shape[0] + 1\n",
    "    new_m = np.zeros((r,c))\n",
    "    print(new_m.shape)\n",
    "    for x in range(new_m.shape[0]):\n",
    "        for y in range(new_m.shape[1]):\n",
    "            d = big_m[x:small_m.shape[0]+x, y:small_m.shape[0]+y]\n",
    "            for i in range(small_m.shape[0]):\n",
    "                for j in range(small_m.shape[1]):\n",
    "                    new_m[x,y] += d[i,j] * small_m[i,j]\n",
    "            \n",
    "    return new_m"
   ]
  },
  {
   "cell_type": "code",
   "execution_count": 126,
   "metadata": {},
   "outputs": [],
   "source": [
    "mat1 = np.ones((5,5))\n",
    "mat2 = np.array([[1,2], [2,1]])"
   ]
  },
  {
   "cell_type": "code",
   "execution_count": 127,
   "metadata": {},
   "outputs": [
    {
     "name": "stdout",
     "output_type": "stream",
     "text": [
      "(4, 4)\n",
      "[[6. 6. 6. 6.]\n",
      " [6. 6. 6. 6.]\n",
      " [6. 6. 6. 6.]\n",
      " [6. 6. 6. 6.]]\n"
     ]
    }
   ],
   "source": [
    "print(mul(mat1,mat2))"
   ]
  },
  {
   "cell_type": "code",
   "execution_count": null,
   "metadata": {},
   "outputs": [],
   "source": []
  }
 ],
 "metadata": {
  "kernelspec": {
   "display_name": "Python 3",
   "language": "python",
   "name": "python3"
  },
  "language_info": {
   "codemirror_mode": {
    "name": "ipython",
    "version": 3
   },
   "file_extension": ".py",
   "mimetype": "text/x-python",
   "name": "python",
   "nbconvert_exporter": "python",
   "pygments_lexer": "ipython3",
   "version": "3.6.5"
  }
 },
 "nbformat": 4,
 "nbformat_minor": 2
}
